{
  "nbformat": 4,
  "nbformat_minor": 0,
  "metadata": {
    "colab": {
      "name": "learning-DSM.ipynb",
      "provenance": [],
      "authorship_tag": "ABX9TyOoE8gorWSZ+Oaj9thvKCoS",
      "include_colab_link": true
    },
    "kernelspec": {
      "name": "python3",
      "display_name": "Python 3"
    }
  },
  "cells": [
    {
      "cell_type": "markdown",
      "metadata": {
        "id": "view-in-github",
        "colab_type": "text"
      },
      "source": [
        "<a href=\"https://colab.research.google.com/github/texchi2/DeepSurvivalMachines/blob/master/learning_DSM.ipynb\" target=\"_parent\"><img src=\"https://colab.research.google.com/assets/colab-badge.svg\" alt=\"Open In Colab\"/></a>"
      ]
    },
    {
      "cell_type": "markdown",
      "metadata": {
        "id": "Bo373uckDx81"
      },
      "source": [
        "Deep Survival Machines\n",
        "https://github.com/texchi2/DeepSurvivalMachines"
      ]
    },
    {
      "cell_type": "code",
      "metadata": {
        "colab": {
          "base_uri": "https://localhost:8080/"
        },
        "id": "O8mhBBgQDunG",
        "outputId": "72ab9370-dd91-42f4-9fca-cfcbe12e82d1"
      },
      "source": [
        "! git clone https://github.com/texchi2/DeepSurvivalMachines.git"
      ],
      "execution_count": 1,
      "outputs": [
        {
          "output_type": "stream",
          "text": [
            "Cloning into 'DeepSurvivalMachines'...\n",
            "remote: Enumerating objects: 73, done.\u001b[K\n",
            "remote: Counting objects: 100% (73/73), done.\u001b[K\n",
            "remote: Compressing objects: 100% (57/57), done.\u001b[K\n",
            "remote: Total 352 (delta 41), reused 35 (delta 16), pack-reused 279\u001b[K\n",
            "Receiving objects: 100% (352/352), 1.93 MiB | 13.16 MiB/s, done.\n",
            "Resolving deltas: 100% (190/190), done.\n"
          ],
          "name": "stdout"
        }
      ]
    }
  ]
}