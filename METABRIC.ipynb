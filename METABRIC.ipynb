{
 "cells": [
  {
   "cell_type": "code",
   "execution_count": 95,
   "metadata": {},
   "outputs": [],
   "source": [
    "import torch"
   ]
  },
  {
   "cell_type": "markdown",
   "metadata": {},
   "source": [
    "We will use PyCox to import the METABRIC Dataset"
   ]
  },
  {
   "cell_type": "code",
   "execution_count": 96,
   "metadata": {},
   "outputs": [],
   "source": [
    "from pycox import datasets\n",
    "df = datasets.metabric.read_df()"
   ]
  },
  {
   "cell_type": "markdown",
   "metadata": {},
   "source": [
    "Preprocessing, setting Random folds and computing Event Quantiles of Interest "
   ]
  },
  {
   "cell_type": "code",
   "execution_count": 123,
   "metadata": {},
   "outputs": [],
   "source": [
    "import numpy as np\n",
    "\n",
    "\n",
    "dat1  = df[['x0', 'x1', 'x2', 'x3', 'x4', 'x5', 'x6', 'x7', 'x8']]\n",
    "times = (df['duration'].values+1)\n",
    "events =  df['event'].values\n",
    "data = dat1.to_numpy()\n",
    "folds = np.array([1]*381 + [2]*381 + [3]*381 + [4]*381 + [5]*380 )\n",
    "np.random.seed(0)\n",
    "np.random.shuffle(folds)\n",
    "quantiles = np.quantile(times[events==1], [0.25, .5, .75, .99]).tolist()"
   ]
  },
  {
   "cell_type": "code",
   "execution_count": 124,
   "metadata": {},
   "outputs": [],
   "source": [
    "#This is a flag that is used to artificially increase the amount of censoring in the \n",
    "#dataset to determine robustness of DSM to increased censoring levels.\n",
    "INCREASE_CENSORING = False"
   ]
  },
  {
   "cell_type": "code",
   "execution_count": 125,
   "metadata": {},
   "outputs": [],
   "source": [
    "from sklearn.preprocessing import StandardScaler"
   ]
  },
  {
   "cell_type": "code",
   "execution_count": 126,
   "metadata": {},
   "outputs": [
    {
     "data": {
      "text/plain": [
       "<module 'dsm_utilites' from '/Users/chiragn/Research/ICML2020/DeepSurvivalMachines/dsm_utilites.py'>"
      ]
     },
     "execution_count": 126,
     "metadata": {},
     "output_type": "execute_result"
    }
   ],
   "source": [
    "import importlib\n",
    "import dsm\n",
    "import dsm_utilites\n",
    "importlib.reload(dsm)\n",
    "importlib.reload(dsm_utilites)"
   ]
  },
  {
   "cell_type": "code",
   "execution_count": 127,
   "metadata": {},
   "outputs": [
    {
     "data": {
      "text/plain": [
       "1713.6"
      ]
     },
     "execution_count": 127,
     "metadata": {},
     "output_type": "execute_result"
    }
   ],
   "source": [
    "float(len(dat1)*9)/10"
   ]
  },
  {
   "cell_type": "code",
   "execution_count": 128,
   "metadata": {},
   "outputs": [
    {
     "name": "stdout",
     "output_type": "stream",
     "text": [
      "val len: 256\n",
      "tr  len: 1267\n",
      "Censoring in Fold: 0.585635359116022\n",
      "Censoring in Fold: 0.585635359116022\n",
      "Weibull\n",
      "Pretraining the Underlying Distributions...\n"
     ]
    },
    {
     "data": {
      "application/vnd.jupyter.widget-view+json": {
       "model_id": "94a08c4f8cb9413cb5550461cef08843",
       "version_major": 2,
       "version_minor": 0
      },
      "text/plain": [
       "HBox(children=(FloatProgress(value=0.0, max=10000.0), HTML(value='')))"
      ]
     },
     "metadata": {},
     "output_type": "display_data"
    },
    {
     "name": "stdout",
     "output_type": "stream",
     "text": [
      "200.75226152672906 1.2680803184752372\n"
     ]
    },
    {
     "data": {
      "application/vnd.jupyter.widget-view+json": {
       "model_id": "5f9ed6a9d53147a8976a505baa8d8827",
       "version_major": 2,
       "version_minor": 0
      },
      "text/plain": [
       "HBox(children=(FloatProgress(value=0.0, max=10000.0), HTML(value='')))"
      ]
     },
     "metadata": {},
     "output_type": "display_data"
    },
    {
     "name": "stdout",
     "output_type": "stream",
     "text": [
      "\n",
      "TEST PERFORMANCE\n",
      "(0.7154317427767943, 0.6613066844703644, 0.6095326277314909, 0.5646184019234619)\n",
      "val len: 256\n",
      "tr  len: 1267\n",
      "Censoring in Fold: 0.5864246250986582\n",
      "Censoring in Fold: 0.5864246250986582\n",
      "Weibull\n",
      "Pretraining the Underlying Distributions...\n"
     ]
    },
    {
     "data": {
      "application/vnd.jupyter.widget-view+json": {
       "model_id": "39e682733b7c49a193c5d9db1fc25192",
       "version_major": 2,
       "version_minor": 0
      },
      "text/plain": [
       "HBox(children=(FloatProgress(value=0.0, max=10000.0), HTML(value='')))"
      ]
     },
     "metadata": {},
     "output_type": "display_data"
    },
    {
     "name": "stdout",
     "output_type": "stream",
     "text": [
      "199.7153561845356 1.2632128253408417\n"
     ]
    },
    {
     "data": {
      "application/vnd.jupyter.widget-view+json": {
       "model_id": "fd9d3c6b464944b39af18518b6750d37",
       "version_major": 2,
       "version_minor": 0
      },
      "text/plain": [
       "HBox(children=(FloatProgress(value=0.0, max=10000.0), HTML(value='')))"
      ]
     },
     "metadata": {},
     "output_type": "display_data"
    },
    {
     "name": "stdout",
     "output_type": "stream",
     "text": [
      "TEST PERFORMANCE\n",
      "(0.6007865597948178, 0.5885119373707697, 0.586134286427175, 0.601290434891957)\n",
      "val len: 256\n",
      "tr  len: 1267\n",
      "Censoring in Fold: 0.579321231254933\n",
      "Censoring in Fold: 0.579321231254933\n",
      "Weibull\n",
      "Pretraining the Underlying Distributions...\n"
     ]
    },
    {
     "data": {
      "application/vnd.jupyter.widget-view+json": {
       "model_id": "70d52a9cada6477597b7c145f7903f92",
       "version_major": 2,
       "version_minor": 0
      },
      "text/plain": [
       "HBox(children=(FloatProgress(value=0.0, max=10000.0), HTML(value='')))"
      ]
     },
     "metadata": {},
     "output_type": "display_data"
    },
    {
     "name": "stdout",
     "output_type": "stream",
     "text": [
      "203.71121598683038 1.2771277338630311\n"
     ]
    },
    {
     "data": {
      "application/vnd.jupyter.widget-view+json": {
       "model_id": "73cbf5108ace4da587dc1f0dde8d5040",
       "version_major": 2,
       "version_minor": 0
      },
      "text/plain": [
       "HBox(children=(FloatProgress(value=0.0, max=10000.0), HTML(value='')))"
      ]
     },
     "metadata": {},
     "output_type": "display_data"
    },
    {
     "name": "stdout",
     "output_type": "stream",
     "text": [
      "TEST PERFORMANCE\n",
      "(0.7121724313147351, 0.6818384881157109, 0.6577998627814042, 0.6497338850905421)\n",
      "val len: 256\n",
      "tr  len: 1267\n",
      "Censoring in Fold: 0.5785319652722968\n",
      "Censoring in Fold: 0.5785319652722968\n",
      "Weibull\n",
      "Pretraining the Underlying Distributions...\n"
     ]
    },
    {
     "data": {
      "application/vnd.jupyter.widget-view+json": {
       "model_id": "c293ce1812334109a469224d956c51c6",
       "version_major": 2,
       "version_minor": 0
      },
      "text/plain": [
       "HBox(children=(FloatProgress(value=0.0, max=10000.0), HTML(value='')))"
      ]
     },
     "metadata": {},
     "output_type": "display_data"
    },
    {
     "name": "stdout",
     "output_type": "stream",
     "text": [
      "200.38728541667388 1.2916873727801628\n"
     ]
    },
    {
     "data": {
      "application/vnd.jupyter.widget-view+json": {
       "model_id": "5ef0390a60364d89a9d697f5b4f11147",
       "version_major": 2,
       "version_minor": 0
      },
      "text/plain": [
       "HBox(children=(FloatProgress(value=0.0, max=10000.0), HTML(value='')))"
      ]
     },
     "metadata": {},
     "output_type": "display_data"
    },
    {
     "name": "stdout",
     "output_type": "stream",
     "text": [
      "TEST PERFORMANCE\n",
      "(0.7604568637757466, 0.7232963903416784, 0.6617261376642131, 0.646405712483512)\n",
      "val len: 256\n",
      "tr  len: 1268\n",
      "Censoring in Fold: 0.582807570977918\n",
      "Censoring in Fold: 0.582807570977918\n",
      "Weibull\n",
      "Pretraining the Underlying Distributions...\n"
     ]
    },
    {
     "data": {
      "application/vnd.jupyter.widget-view+json": {
       "model_id": "9532b513edea4391ba35b760fbcfee4b",
       "version_major": 2,
       "version_minor": 0
      },
      "text/plain": [
       "HBox(children=(FloatProgress(value=0.0, max=10000.0), HTML(value='')))"
      ]
     },
     "metadata": {},
     "output_type": "display_data"
    },
    {
     "name": "stdout",
     "output_type": "stream",
     "text": [
      "200.8431094911515 1.2591288578083222\n"
     ]
    },
    {
     "data": {
      "application/vnd.jupyter.widget-view+json": {
       "model_id": "7194498ec1da4372800fc828c409ab72",
       "version_major": 2,
       "version_minor": 0
      },
      "text/plain": [
       "HBox(children=(FloatProgress(value=0.0, max=10000.0), HTML(value='')))"
      ]
     },
     "metadata": {},
     "output_type": "display_data"
    },
    {
     "name": "stdout",
     "output_type": "stream",
     "text": [
      "TEST PERFORMANCE\n",
      "(0.7380987174602022, 0.6644269287843599, 0.6575335218015144, 0.6570588366776975)\n"
     ]
    }
   ],
   "source": [
    "#set parameter grid\n",
    "\n",
    "params = [{'G':6, 'mlptyp':2,'HIDDEN':[100], 'n_iter':int(1000), 'lr':1e-3, 'ELBO':True, 'mean':False, \\\n",
    "           'lambd':0, 'alpha':1,'thres':1e-3, 'bs':int(25), 'dist': 'Weibull'}]\n",
    "\n",
    "\n",
    "#set val data size\n",
    "vsize = int(0.15*1712)\n",
    "\n",
    "torch.manual_seed(0)\n",
    "\n",
    "for param in params:\n",
    "\n",
    "    outs = []\n",
    "\n",
    "    for f in range(1,6,1):\n",
    "\n",
    "        x_train = data[folds!=f]\n",
    "        x_test  = data[folds==f]\n",
    "        x_valid = x_train[-vsize:, :]\n",
    "        x_train = x_train[:-vsize, :]\n",
    "\n",
    "        t_train = times[folds!=f]\n",
    "        t_test  = times[folds==f]\n",
    "        t_valid = t_train[-vsize:]\n",
    "        t_train = t_train[:-vsize]\n",
    "\n",
    "\n",
    "        e_train = events[folds!=f]\n",
    "        e_test  = events[folds==f]\n",
    "        e_valid = e_train[-vsize:]\n",
    "        e_train = e_train[:-vsize]\n",
    "\n",
    "\n",
    "        print (\"val len:\", len(x_valid))\n",
    "\n",
    "        print (\"tr  len:\", len(x_train))\n",
    "\n",
    "\n",
    "        #normalize the feature set using standard scaling\n",
    "\n",
    "        scl = StandardScaler()\n",
    "        x_train = scl.fit_transform(x_train)\n",
    "        x_valid = scl.transform(x_valid)\n",
    "        x_test = scl.transform(x_test)\n",
    "\n",
    "\n",
    "        print (\"Censoring in Fold:\", np.mean(e_train))\n",
    "\n",
    "        if INCREASE_CENSORING:\n",
    "            e_train, t_train = increaseCensoring(e_train, t_train, .50)\n",
    "\n",
    "        print (\"Censoring in Fold:\", np.mean(e_train))\n",
    "\n",
    "        #Convert the train, test and validation data torch\n",
    "\n",
    "        x_train = torch.from_numpy(x_train).double() \n",
    "        e_train = torch.from_numpy(e_train).double() \n",
    "        t_train = torch.from_numpy(t_train).double() \n",
    "\n",
    "        x_valid = torch.from_numpy(x_valid).double() \n",
    "        e_valid = torch.from_numpy(e_valid).double() \n",
    "        t_valid = torch.from_numpy(t_valid).double() \n",
    "\n",
    "        x_test = torch.from_numpy(x_test).double() \n",
    "        e_test = torch.from_numpy(e_test).double() \n",
    "        t_test = torch.from_numpy(t_test).double() \n",
    "\n",
    "\n",
    "        K, mlptyp, HIDDEN, n_iter, lr, ELBO, mean, lambd, alpha, thres, bs,dist = \\\n",
    "        param['G'], param['mlptyp'], param['HIDDEN'], param['n_iter'], param['lr'], \\\n",
    "        param['ELBO'], param['mean'], param['lambd'], param['alpha'], param['thres'],\\\n",
    "        param['bs'], param['dist'] \n",
    "\n",
    "        D = x_train.shape[1]\n",
    "        \n",
    "        print (dist)\n",
    "        \n",
    "        model = dsm.DeepSurvivalMachines(D, K, mlptyp, HIDDEN, dist=dist)\n",
    "        model.double()\n",
    "        \n",
    "        model, i = dsm_utilites.trainDSM(model,quantiles,x_train, t_train, e_train, x_valid, t_valid, e_valid,lr=lr,bs=bs,alpha=alpha )\n",
    "        \n",
    "    \n",
    "        print (\"TEST PERFORMANCE\")\n",
    "\n",
    "        out =  (dsm_utilites.computeCIScores(model, quantiles, x_test, t_test, e_test, t_train, e_train))\n",
    "\n",
    "        print (out)\n",
    "\n",
    "        outs.append(out)"
   ]
  },
  {
   "cell_type": "code",
   "execution_count": 8,
   "metadata": {},
   "outputs": [
    {
     "data": {
      "text/plain": [
       "[43.68333435058594, 86.86666870117188, 146.33333587646484, 283.5426806640625]"
      ]
     },
     "execution_count": 8,
     "metadata": {},
     "output_type": "execute_result"
    }
   ],
   "source": [
    "quantiles"
   ]
  },
  {
   "cell_type": "code",
   "execution_count": 93,
   "metadata": {},
   "outputs": [
    {
     "data": {
      "text/plain": [
       "'LogNormal'"
      ]
     },
     "execution_count": 93,
     "metadata": {},
     "output_type": "execute_result"
    }
   ],
   "source": [
    "model.dist"
   ]
  },
  {
   "cell_type": "code",
   "execution_count": null,
   "metadata": {},
   "outputs": [],
   "source": []
  }
 ],
 "metadata": {
  "kernelspec": {
   "display_name": "Python 3",
   "language": "python",
   "name": "python3"
  },
  "language_info": {
   "codemirror_mode": {
    "name": "ipython",
    "version": 3
   },
   "file_extension": ".py",
   "mimetype": "text/x-python",
   "name": "python",
   "nbconvert_exporter": "python",
   "pygments_lexer": "ipython3",
   "version": "3.8.5"
  }
 },
 "nbformat": 4,
 "nbformat_minor": 2
}
