{
 "cells": [
  {
   "cell_type": "markdown",
   "metadata": {},
   "source": [
    "# Train/Test/Validation Split"
   ]
  },
  {
   "cell_type": "code",
   "execution_count": 5,
   "metadata": {},
   "outputs": [],
   "source": [
    "from dsm import datasets\n",
    "from dsm.dsm_api import DeepSurvivalMachines\n",
    "\n",
    "import numpy as np\n",
    "\n",
    "from sklearn.model_selection import ParameterGrid\n",
    "from sksurv.metrics import concordance_index_ipcw, brier_score, cumulative_dynamic_auc"
   ]
  },
  {
   "cell_type": "markdown",
   "metadata": {},
   "source": [
    "### Loading the Support Dataset "
   ]
  },
  {
   "cell_type": "code",
   "execution_count": 6,
   "metadata": {},
   "outputs": [],
   "source": [
    "x, t, e = datasets.load_dataset('SUPPORT')"
   ]
  },
  {
   "cell_type": "markdown",
   "metadata": {},
   "source": [
    "### Computing the required quantile of the data "
   ]
  },
  {
   "cell_type": "code",
   "execution_count": 7,
   "metadata": {},
   "outputs": [],
   "source": [
    "times = np.quantile(t[e == 1], [0.25, 0.5, 0.75]).tolist()"
   ]
  },
  {
   "cell_type": "markdown",
   "metadata": {},
   "source": [
    "### Defining the train, test and validation size"
   ]
  },
  {
   "cell_type": "code",
   "execution_count": 8,
   "metadata": {
    "scrolled": false
   },
   "outputs": [],
   "source": [
    "data_size = len(x)\n",
    "tr_size = round(data_size * 0.70)\n",
    "vl_size = round(data_size * 0.10)\n",
    "te_size = round(data_size * 0.20)"
   ]
  },
  {
   "cell_type": "markdown",
   "metadata": {},
   "source": [
    "### Splitting the data into train, test and validation sets"
   ]
  },
  {
   "cell_type": "code",
   "execution_count": 9,
   "metadata": {},
   "outputs": [],
   "source": [
    "x_train = x[: tr_size]\n",
    "t_train = t[: tr_size]\n",
    "e_train = e[: tr_size]\n",
    "\n",
    "x_test = x[-te_size :]\n",
    "t_test = t[-te_size :]\n",
    "e_test = e[-te_size :]\n",
    "\n",
    "x_val = x[tr_size : tr_size + vl_size]\n",
    "t_val = t[tr_size : tr_size + vl_size]\n",
    "e_val = e[tr_size : tr_size + vl_size]"
   ]
  },
  {
   "cell_type": "code",
   "execution_count": 10,
   "metadata": {},
   "outputs": [],
   "source": [
    "et_train = np.array([(e_train[i], t_train[i]) for i in range(len(e_train))],\n",
    "                 dtype = [('e', bool), ('t', int)])\n",
    "et_test = np.array([(e_test[i], t_test[i]) for i in range(len(e_test))],\n",
    "                 dtype = [('e', bool), ('t', int)])\n",
    "et_val = np.array([(e_val[i], t_val[i]) for i in range(len(e_val))],\n",
    "                 dtype = [('e', bool), ('t', int)])"
   ]
  },
  {
   "cell_type": "code",
   "execution_count": 11,
   "metadata": {},
   "outputs": [
    {
     "name": "stdout",
     "output_type": "stream",
     "text": [
      "(6374,) (1821,) (910,)\n"
     ]
    }
   ],
   "source": [
    "print(et_train.shape, et_test.shape, et_val.shape)"
   ]
  },
  {
   "cell_type": "markdown",
   "metadata": {},
   "source": [
    "### Defining the parameter grid"
   ]
  },
  {
   "cell_type": "code",
   "execution_count": 12,
   "metadata": {},
   "outputs": [],
   "source": [
    "param_grid = {'k' : [3, 4, 6],\n",
    "              'distribution' : ['LogNormal', 'Weibull'],\n",
    "              'learning_rate' : [ float(1e-4), float(1e-3)],\n",
    "              'layers' : [ [], [100], [100, 100] ]\n",
    "             }\n",
    "params = ParameterGrid(param_grid)"
   ]
  },
  {
   "cell_type": "markdown",
   "metadata": {},
   "source": [
    "### Validation "
   ]
  },
  {
   "cell_type": "code",
   "execution_count": 30,
   "metadata": {
    "scrolled": true
   },
   "outputs": [
    {
     "name": "stderr",
     "output_type": "stream",
     "text": [
      " 12%|█▏        | 1240/10000 [00:02<00:15, 552.63it/s]\n",
      "  0%|          | 0/1 [00:00<?, ?it/s]"
     ]
    },
    {
     "name": "stdout",
     "output_type": "stream",
     "text": [
      "ParameterDict(  (1): Parameter containing: [torch.DoubleTensor of size 1]) ParameterDict(  (1): Parameter containing: [torch.DoubleTensor of size 1])\n"
     ]
    },
    {
     "name": "stderr",
     "output_type": "stream",
     "text": [
      "100%|██████████| 1/1 [00:00<00:00,  4.05it/s]\n",
      "/home/kishan/Documents/Projects/deepsurvival/deep_survival/lib/python3.8/site-packages/torch/nn/modules/container.py:550: UserWarning: Setting attributes on ParameterDict is not supported.\n",
      "  def __setattr__(self, key: Any, value: Any) -> None:\n",
      "  1%|          | 58/10000 [00:00<00:17, 571.72it/s]"
     ]
    },
    {
     "name": "stdout",
     "output_type": "stream",
     "text": [
      "Concordance Index :  0.5169860629297868\n",
      "Brier Score :  0.2061851100661561\n",
      "Cumulative_dynamic AUC :  0.5116474076285633\n",
      "Loss :  2.0041620917118923\n"
     ]
    },
    {
     "name": "stderr",
     "output_type": "stream",
     "text": [
      " 12%|█▏        | 1240/10000 [00:02<00:17, 514.28it/s]\n",
      "  0%|          | 0/1 [00:00<?, ?it/s]"
     ]
    },
    {
     "name": "stdout",
     "output_type": "stream",
     "text": [
      "ParameterDict(  (1): Parameter containing: [torch.DoubleTensor of size 1]) ParameterDict(  (1): Parameter containing: [torch.DoubleTensor of size 1])\n"
     ]
    },
    {
     "name": "stderr",
     "output_type": "stream",
     "text": [
      "100%|██████████| 1/1 [00:00<00:00,  3.47it/s]\n",
      "/home/kishan/Documents/Projects/deepsurvival/deep_survival/lib/python3.8/site-packages/torch/nn/modules/container.py:550: UserWarning: Setting attributes on ParameterDict is not supported.\n",
      "  def __setattr__(self, key: Any, value: Any) -> None:\n",
      "  1%|          | 57/10000 [00:00<00:17, 567.92it/s]"
     ]
    },
    {
     "name": "stdout",
     "output_type": "stream",
     "text": [
      "Concordance Index :  0.6545131074044428\n",
      "Brier Score :  0.19332740846916732\n",
      "Cumulative_dynamic AUC :  0.6755791910095571\n",
      "Loss :  1.9283191263729669\n"
     ]
    },
    {
     "name": "stderr",
     "output_type": "stream",
     "text": [
      " 12%|█▏        | 1240/10000 [00:02<00:17, 510.33it/s]\n",
      "  0%|          | 0/1 [00:00<?, ?it/s]"
     ]
    },
    {
     "name": "stdout",
     "output_type": "stream",
     "text": [
      "ParameterDict(  (1): Parameter containing: [torch.DoubleTensor of size 1]) ParameterDict(  (1): Parameter containing: [torch.DoubleTensor of size 1])\n"
     ]
    },
    {
     "name": "stderr",
     "output_type": "stream",
     "text": [
      "100%|██████████| 1/1 [00:00<00:00,  2.57it/s]\n",
      "/home/kishan/Documents/Projects/deepsurvival/deep_survival/lib/python3.8/site-packages/torch/nn/modules/container.py:550: UserWarning: Setting attributes on ParameterDict is not supported.\n",
      "  def __setattr__(self, key: Any, value: Any) -> None:\n",
      "  0%|          | 32/10000 [00:00<00:31, 313.90it/s]"
     ]
    },
    {
     "name": "stdout",
     "output_type": "stream",
     "text": [
      "Concordance Index :  0.6157462696338806\n",
      "Brier Score :  0.20190742666573214\n",
      "Cumulative_dynamic AUC :  0.6178546476191661\n",
      "Loss :  1.942424946597918\n"
     ]
    },
    {
     "name": "stderr",
     "output_type": "stream",
     "text": [
      " 12%|█▏        | 1240/10000 [00:02<00:17, 499.87it/s]\n",
      "  0%|          | 0/1 [00:00<?, ?it/s]"
     ]
    },
    {
     "name": "stdout",
     "output_type": "stream",
     "text": [
      "ParameterDict(  (1): Parameter containing: [torch.DoubleTensor of size 1]) ParameterDict(  (1): Parameter containing: [torch.DoubleTensor of size 1])\n"
     ]
    },
    {
     "name": "stderr",
     "output_type": "stream",
     "text": [
      "100%|██████████| 1/1 [00:00<00:00,  3.14it/s]\n",
      "/home/kishan/Documents/Projects/deepsurvival/deep_survival/lib/python3.8/site-packages/torch/nn/modules/container.py:550: UserWarning: Setting attributes on ParameterDict is not supported.\n",
      "  def __setattr__(self, key: Any, value: Any) -> None:\n",
      "  1%|          | 57/10000 [00:00<00:17, 567.50it/s]"
     ]
    },
    {
     "name": "stdout",
     "output_type": "stream",
     "text": [
      "Concordance Index :  0.6779070611368144\n",
      "Brier Score :  0.191800075975778\n",
      "Cumulative_dynamic AUC :  0.7078613915545168\n",
      "Loss :  1.8664339596659203\n"
     ]
    },
    {
     "name": "stderr",
     "output_type": "stream",
     "text": [
      " 12%|█▏        | 1240/10000 [00:02<00:17, 499.37it/s]\n",
      "  0%|          | 0/1 [00:00<?, ?it/s]"
     ]
    },
    {
     "name": "stdout",
     "output_type": "stream",
     "text": [
      "ParameterDict(  (1): Parameter containing: [torch.DoubleTensor of size 1]) ParameterDict(  (1): Parameter containing: [torch.DoubleTensor of size 1])\n"
     ]
    },
    {
     "name": "stderr",
     "output_type": "stream",
     "text": [
      "100%|██████████| 1/1 [00:00<00:00,  2.66it/s]\n",
      "/home/kishan/Documents/Projects/deepsurvival/deep_survival/lib/python3.8/site-packages/torch/nn/modules/container.py:550: UserWarning: Setting attributes on ParameterDict is not supported.\n",
      "  def __setattr__(self, key: Any, value: Any) -> None:\n",
      "  1%|          | 54/10000 [00:00<00:18, 537.44it/s]"
     ]
    },
    {
     "name": "stdout",
     "output_type": "stream",
     "text": [
      "Concordance Index :  0.6075389320428283\n",
      "Brier Score :  0.20392218852253005\n",
      "Cumulative_dynamic AUC :  0.6223839320128642\n",
      "Loss :  1.9290028771238812\n"
     ]
    },
    {
     "name": "stderr",
     "output_type": "stream",
     "text": [
      " 12%|█▏        | 1240/10000 [00:02<00:17, 508.64it/s]\n",
      "  0%|          | 0/1 [00:00<?, ?it/s]"
     ]
    },
    {
     "name": "stdout",
     "output_type": "stream",
     "text": [
      "ParameterDict(  (1): Parameter containing: [torch.DoubleTensor of size 1]) ParameterDict(  (1): Parameter containing: [torch.DoubleTensor of size 1])\n"
     ]
    },
    {
     "name": "stderr",
     "output_type": "stream",
     "text": [
      "100%|██████████| 1/1 [00:00<00:00,  2.95it/s]\n",
      "/home/kishan/Documents/Projects/deepsurvival/deep_survival/lib/python3.8/site-packages/torch/nn/modules/container.py:550: UserWarning: Setting attributes on ParameterDict is not supported.\n",
      "  def __setattr__(self, key: Any, value: Any) -> None:\n",
      "  1%|          | 56/10000 [00:00<00:17, 558.24it/s]"
     ]
    },
    {
     "name": "stdout",
     "output_type": "stream",
     "text": [
      "Concordance Index :  0.6953254804739589\n",
      "Brier Score :  0.18914740821224885\n",
      "Cumulative_dynamic AUC :  0.7251612097143599\n",
      "Loss :  1.8509924308265433\n"
     ]
    },
    {
     "name": "stderr",
     "output_type": "stream",
     "text": [
      " 12%|█▏        | 1240/10000 [00:02<00:15, 572.79it/s]\n",
      "  0%|          | 0/1 [00:00<?, ?it/s]"
     ]
    },
    {
     "name": "stdout",
     "output_type": "stream",
     "text": [
      "ParameterDict(  (1): Parameter containing: [torch.DoubleTensor of size 1]) ParameterDict(  (1): Parameter containing: [torch.DoubleTensor of size 1])\n"
     ]
    },
    {
     "name": "stderr",
     "output_type": "stream",
     "text": [
      "100%|██████████| 1/1 [00:00<00:00,  3.49it/s]\n",
      "/home/kishan/Documents/Projects/deepsurvival/deep_survival/lib/python3.8/site-packages/torch/nn/modules/container.py:550: UserWarning: Setting attributes on ParameterDict is not supported.\n",
      "  def __setattr__(self, key: Any, value: Any) -> None:\n",
      "  1%|          | 56/10000 [00:00<00:17, 553.87it/s]"
     ]
    },
    {
     "name": "stdout",
     "output_type": "stream",
     "text": [
      "Concordance Index :  0.501760887942973\n",
      "Brier Score :  0.20529714698983437\n",
      "Cumulative_dynamic AUC :  0.5110456126501461\n",
      "Loss :  1.9913006789584062\n"
     ]
    },
    {
     "name": "stderr",
     "output_type": "stream",
     "text": [
      " 12%|█▏        | 1240/10000 [00:02<00:16, 546.28it/s]\n",
      "  0%|          | 0/1 [00:00<?, ?it/s]"
     ]
    },
    {
     "name": "stdout",
     "output_type": "stream",
     "text": [
      "ParameterDict(  (1): Parameter containing: [torch.DoubleTensor of size 1]) ParameterDict(  (1): Parameter containing: [torch.DoubleTensor of size 1])\n"
     ]
    },
    {
     "name": "stderr",
     "output_type": "stream",
     "text": [
      "100%|██████████| 1/1 [00:00<00:00,  2.77it/s]\n",
      "/home/kishan/Documents/Projects/deepsurvival/deep_survival/lib/python3.8/site-packages/torch/nn/modules/container.py:550: UserWarning: Setting attributes on ParameterDict is not supported.\n",
      "  def __setattr__(self, key: Any, value: Any) -> None:\n",
      "  1%|          | 52/10000 [00:00<00:19, 518.34it/s]"
     ]
    },
    {
     "name": "stdout",
     "output_type": "stream",
     "text": [
      "Concordance Index :  0.5795555668250195\n",
      "Brier Score :  0.20148496253505044\n",
      "Cumulative_dynamic AUC :  0.5949887839332239\n",
      "Loss :  1.9276752186606096\n"
     ]
    },
    {
     "name": "stderr",
     "output_type": "stream",
     "text": [
      " 12%|█▏        | 1240/10000 [00:02<00:17, 488.20it/s]\n",
      "  0%|          | 0/1 [00:00<?, ?it/s]"
     ]
    },
    {
     "name": "stdout",
     "output_type": "stream",
     "text": [
      "ParameterDict(  (1): Parameter containing: [torch.DoubleTensor of size 1]) ParameterDict(  (1): Parameter containing: [torch.DoubleTensor of size 1])\n"
     ]
    },
    {
     "name": "stderr",
     "output_type": "stream",
     "text": [
      "100%|██████████| 1/1 [00:00<00:00,  3.07it/s]\n",
      "/home/kishan/Documents/Projects/deepsurvival/deep_survival/lib/python3.8/site-packages/torch/nn/modules/container.py:550: UserWarning: Setting attributes on ParameterDict is not supported.\n",
      "  def __setattr__(self, key: Any, value: Any) -> None:\n",
      "  1%|          | 55/10000 [00:00<00:18, 541.90it/s]"
     ]
    },
    {
     "name": "stdout",
     "output_type": "stream",
     "text": [
      "Concordance Index :  0.6054708847608766\n",
      "Brier Score :  0.2022000718414089\n",
      "Cumulative_dynamic AUC :  0.6281215977629164\n",
      "Loss :  1.9370063916501157\n"
     ]
    },
    {
     "name": "stderr",
     "output_type": "stream",
     "text": [
      " 12%|█▏        | 1240/10000 [00:02<00:17, 500.55it/s]\n",
      "  0%|          | 0/1 [00:00<?, ?it/s]"
     ]
    },
    {
     "name": "stdout",
     "output_type": "stream",
     "text": [
      "ParameterDict(  (1): Parameter containing: [torch.DoubleTensor of size 1]) ParameterDict(  (1): Parameter containing: [torch.DoubleTensor of size 1])\n"
     ]
    },
    {
     "name": "stderr",
     "output_type": "stream",
     "text": [
      "100%|██████████| 1/1 [00:00<00:00,  2.90it/s]\n",
      "/home/kishan/Documents/Projects/deepsurvival/deep_survival/lib/python3.8/site-packages/torch/nn/modules/container.py:550: UserWarning: Setting attributes on ParameterDict is not supported.\n",
      "  def __setattr__(self, key: Any, value: Any) -> None:\n",
      "  1%|          | 51/10000 [00:00<00:19, 505.90it/s]"
     ]
    },
    {
     "name": "stdout",
     "output_type": "stream",
     "text": [
      "Concordance Index :  0.6816770650110701\n",
      "Brier Score :  0.19124763850661397\n",
      "Cumulative_dynamic AUC :  0.7125743946515267\n",
      "Loss :  1.862864163959443\n"
     ]
    },
    {
     "name": "stderr",
     "output_type": "stream",
     "text": [
      " 12%|█▏        | 1240/10000 [00:02<00:18, 472.91it/s]\n",
      "  0%|          | 0/1 [00:00<?, ?it/s]"
     ]
    },
    {
     "name": "stdout",
     "output_type": "stream",
     "text": [
      "ParameterDict(  (1): Parameter containing: [torch.DoubleTensor of size 1]) ParameterDict(  (1): Parameter containing: [torch.DoubleTensor of size 1])\n"
     ]
    },
    {
     "name": "stderr",
     "output_type": "stream",
     "text": [
      "100%|██████████| 1/1 [00:00<00:00,  2.34it/s]\n",
      "/home/kishan/Documents/Projects/deepsurvival/deep_survival/lib/python3.8/site-packages/torch/nn/modules/container.py:550: UserWarning: Setting attributes on ParameterDict is not supported.\n",
      "  def __setattr__(self, key: Any, value: Any) -> None:\n",
      "  1%|          | 56/10000 [00:00<00:17, 554.15it/s]"
     ]
    },
    {
     "name": "stdout",
     "output_type": "stream",
     "text": [
      "Concordance Index :  0.6379993409485688\n",
      "Brier Score :  0.20323516952271928\n",
      "Cumulative_dynamic AUC :  0.6557090611927593\n",
      "Loss :  1.929479666819625\n"
     ]
    },
    {
     "name": "stderr",
     "output_type": "stream",
     "text": [
      " 12%|█▏        | 1240/10000 [00:02<00:15, 559.01it/s]\n",
      "  0%|          | 0/1 [00:00<?, ?it/s]"
     ]
    },
    {
     "name": "stdout",
     "output_type": "stream",
     "text": [
      "ParameterDict(  (1): Parameter containing: [torch.DoubleTensor of size 1]) ParameterDict(  (1): Parameter containing: [torch.DoubleTensor of size 1])\n"
     ]
    },
    {
     "name": "stderr",
     "output_type": "stream",
     "text": [
      "100%|██████████| 1/1 [00:00<00:00,  2.29it/s]\n",
      "/home/kishan/Documents/Projects/deepsurvival/deep_survival/lib/python3.8/site-packages/torch/nn/modules/container.py:550: UserWarning: Setting attributes on ParameterDict is not supported.\n",
      "  def __setattr__(self, key: Any, value: Any) -> None:\n",
      "  1%|          | 56/10000 [00:00<00:17, 558.56it/s]"
     ]
    },
    {
     "name": "stdout",
     "output_type": "stream",
     "text": [
      "Concordance Index :  0.6907716817683006\n",
      "Brier Score :  0.19024101580634115\n",
      "Cumulative_dynamic AUC :  0.7203712779752184\n",
      "Loss :  1.8534800412582495\n"
     ]
    },
    {
     "name": "stderr",
     "output_type": "stream",
     "text": [
      " 12%|█▏        | 1240/10000 [00:02<00:19, 459.21it/s]\n",
      "  0%|          | 0/1 [00:00<?, ?it/s]"
     ]
    },
    {
     "name": "stdout",
     "output_type": "stream",
     "text": [
      "ParameterDict(  (1): Parameter containing: [torch.DoubleTensor of size 1]) ParameterDict(  (1): Parameter containing: [torch.DoubleTensor of size 1])\n"
     ]
    },
    {
     "name": "stderr",
     "output_type": "stream",
     "text": [
      "100%|██████████| 1/1 [00:00<00:00,  2.62it/s]\n",
      "/home/kishan/Documents/Projects/deepsurvival/deep_survival/lib/python3.8/site-packages/torch/nn/modules/container.py:550: UserWarning: Setting attributes on ParameterDict is not supported.\n",
      "  def __setattr__(self, key: Any, value: Any) -> None:\n",
      "  1%|          | 58/10000 [00:00<00:17, 575.15it/s]"
     ]
    },
    {
     "name": "stdout",
     "output_type": "stream",
     "text": [
      "Concordance Index :  0.46407414632447086\n",
      "Brier Score :  0.20988909047220305\n",
      "Cumulative_dynamic AUC :  0.45600626816847706\n",
      "Loss :  2.0243941855416314\n"
     ]
    },
    {
     "name": "stderr",
     "output_type": "stream",
     "text": [
      " 12%|█▏        | 1240/10000 [00:02<00:15, 550.77it/s]\n",
      "  0%|          | 0/1 [00:00<?, ?it/s]"
     ]
    },
    {
     "name": "stdout",
     "output_type": "stream",
     "text": [
      "ParameterDict(  (1): Parameter containing: [torch.DoubleTensor of size 1]) ParameterDict(  (1): Parameter containing: [torch.DoubleTensor of size 1])\n"
     ]
    },
    {
     "name": "stderr",
     "output_type": "stream",
     "text": [
      "100%|██████████| 1/1 [00:00<00:00,  2.87it/s]\n",
      "/home/kishan/Documents/Projects/deepsurvival/deep_survival/lib/python3.8/site-packages/torch/nn/modules/container.py:550: UserWarning: Setting attributes on ParameterDict is not supported.\n",
      "  def __setattr__(self, key: Any, value: Any) -> None:\n",
      "  1%|          | 56/10000 [00:00<00:17, 556.98it/s]"
     ]
    },
    {
     "name": "stdout",
     "output_type": "stream",
     "text": [
      "Concordance Index :  0.6671449073403984\n",
      "Brier Score :  0.19518610385196222\n",
      "Cumulative_dynamic AUC :  0.6894676059513939\n",
      "Loss :  1.9271834707784632\n"
     ]
    },
    {
     "name": "stderr",
     "output_type": "stream",
     "text": [
      " 12%|█▏        | 1240/10000 [00:02<00:14, 589.38it/s]\n",
      "  0%|          | 0/1 [00:00<?, ?it/s]"
     ]
    },
    {
     "name": "stdout",
     "output_type": "stream",
     "text": [
      "ParameterDict(  (1): Parameter containing: [torch.DoubleTensor of size 1]) ParameterDict(  (1): Parameter containing: [torch.DoubleTensor of size 1])\n"
     ]
    },
    {
     "name": "stderr",
     "output_type": "stream",
     "text": [
      "100%|██████████| 1/1 [00:00<00:00,  2.51it/s]\n",
      "/home/kishan/Documents/Projects/deepsurvival/deep_survival/lib/python3.8/site-packages/torch/nn/modules/container.py:550: UserWarning: Setting attributes on ParameterDict is not supported.\n",
      "  def __setattr__(self, key: Any, value: Any) -> None:\n",
      "  0%|          | 31/10000 [00:00<00:32, 309.06it/s]"
     ]
    },
    {
     "name": "stdout",
     "output_type": "stream",
     "text": [
      "Concordance Index :  0.5593546033558433\n",
      "Brier Score :  0.20465119071373408\n",
      "Cumulative_dynamic AUC :  0.5667167666584652\n",
      "Loss :  1.9415570852354758\n"
     ]
    },
    {
     "name": "stderr",
     "output_type": "stream",
     "text": [
      " 12%|█▏        | 1240/10000 [00:02<00:15, 554.19it/s]\n",
      "  0%|          | 0/1 [00:00<?, ?it/s]"
     ]
    },
    {
     "name": "stdout",
     "output_type": "stream",
     "text": [
      "ParameterDict(  (1): Parameter containing: [torch.DoubleTensor of size 1]) ParameterDict(  (1): Parameter containing: [torch.DoubleTensor of size 1])\n"
     ]
    },
    {
     "name": "stderr",
     "output_type": "stream",
     "text": [
      "100%|██████████| 1/1 [00:00<00:00,  2.37it/s]\n",
      "/home/kishan/Documents/Projects/deepsurvival/deep_survival/lib/python3.8/site-packages/torch/nn/modules/container.py:550: UserWarning: Setting attributes on ParameterDict is not supported.\n",
      "  def __setattr__(self, key: Any, value: Any) -> None:\n",
      "  1%|          | 56/10000 [00:00<00:17, 556.73it/s]"
     ]
    },
    {
     "name": "stdout",
     "output_type": "stream",
     "text": [
      "Concordance Index :  0.6859536445317569\n",
      "Brier Score :  0.19216123070100996\n",
      "Cumulative_dynamic AUC :  0.7143003591714292\n",
      "Loss :  1.8683545588898265\n"
     ]
    },
    {
     "name": "stderr",
     "output_type": "stream",
     "text": [
      " 12%|█▏        | 1240/10000 [00:02<00:17, 505.50it/s]\n",
      "  0%|          | 0/1 [00:00<?, ?it/s]"
     ]
    },
    {
     "name": "stdout",
     "output_type": "stream",
     "text": [
      "ParameterDict(  (1): Parameter containing: [torch.DoubleTensor of size 1]) ParameterDict(  (1): Parameter containing: [torch.DoubleTensor of size 1])\n"
     ]
    },
    {
     "name": "stderr",
     "output_type": "stream",
     "text": [
      "100%|██████████| 1/1 [00:00<00:00,  2.21it/s]\n",
      "/home/kishan/Documents/Projects/deepsurvival/deep_survival/lib/python3.8/site-packages/torch/nn/modules/container.py:550: UserWarning: Setting attributes on ParameterDict is not supported.\n",
      "  def __setattr__(self, key: Any, value: Any) -> None:\n",
      "  0%|          | 34/10000 [00:00<00:29, 335.04it/s]"
     ]
    },
    {
     "name": "stdout",
     "output_type": "stream",
     "text": [
      "Concordance Index :  0.591313155031706\n",
      "Brier Score :  0.20437061006602916\n",
      "Cumulative_dynamic AUC :  0.6049385998230964\n",
      "Loss :  1.9327332740246315\n"
     ]
    },
    {
     "name": "stderr",
     "output_type": "stream",
     "text": [
      " 12%|█▏        | 1240/10000 [00:02<00:19, 439.67it/s]\n",
      "  0%|          | 0/1 [00:00<?, ?it/s]"
     ]
    },
    {
     "name": "stdout",
     "output_type": "stream",
     "text": [
      "ParameterDict(  (1): Parameter containing: [torch.DoubleTensor of size 1]) ParameterDict(  (1): Parameter containing: [torch.DoubleTensor of size 1])\n"
     ]
    },
    {
     "name": "stderr",
     "output_type": "stream",
     "text": [
      "100%|██████████| 1/1 [00:00<00:00,  2.32it/s]\n",
      "/home/kishan/Documents/Projects/deepsurvival/deep_survival/lib/python3.8/site-packages/torch/nn/modules/container.py:550: UserWarning: Setting attributes on ParameterDict is not supported.\n",
      "  def __setattr__(self, key: Any, value: Any) -> None:\n",
      "  1%|          | 64/10000 [00:00<00:15, 634.38it/s]"
     ]
    },
    {
     "name": "stdout",
     "output_type": "stream",
     "text": [
      "Concordance Index :  0.6919841153224567\n",
      "Brier Score :  0.18819365528724016\n",
      "Cumulative_dynamic AUC :  0.7247099285021202\n",
      "Loss :  1.8496978522587575\n"
     ]
    },
    {
     "name": "stderr",
     "output_type": "stream",
     "text": [
      " 18%|█▊        | 1845/10000 [00:03<00:13, 592.29it/s]\n",
      "  0%|          | 0/1 [00:00<?, ?it/s]"
     ]
    },
    {
     "name": "stdout",
     "output_type": "stream",
     "text": [
      "ParameterDict(  (1): Parameter containing: [torch.DoubleTensor of size 1]) ParameterDict(  (1): Parameter containing: [torch.DoubleTensor of size 1])\n"
     ]
    },
    {
     "name": "stderr",
     "output_type": "stream",
     "text": [
      "100%|██████████| 1/1 [00:00<00:00,  4.98it/s]\n",
      "/home/kishan/Documents/Projects/deepsurvival/deep_survival/lib/python3.8/site-packages/torch/nn/modules/container.py:550: UserWarning: Setting attributes on ParameterDict is not supported.\n",
      "  def __setattr__(self, key: Any, value: Any) -> None:\n",
      "  1%|          | 65/10000 [00:00<00:15, 641.39it/s]"
     ]
    },
    {
     "name": "stdout",
     "output_type": "stream",
     "text": [
      "Concordance Index :  0.4402724041641086\n",
      "Brier Score :  0.22197112622554482\n",
      "Cumulative_dynamic AUC :  0.41745039449659194\n",
      "Loss :  4.905902324326184\n"
     ]
    },
    {
     "name": "stderr",
     "output_type": "stream",
     "text": [
      " 18%|█▊        | 1845/10000 [00:03<00:14, 568.54it/s]\n",
      "  0%|          | 0/1 [00:00<?, ?it/s]"
     ]
    },
    {
     "name": "stdout",
     "output_type": "stream",
     "text": [
      "ParameterDict(  (1): Parameter containing: [torch.DoubleTensor of size 1]) ParameterDict(  (1): Parameter containing: [torch.DoubleTensor of size 1])\n"
     ]
    },
    {
     "name": "stderr",
     "output_type": "stream",
     "text": [
      "100%|██████████| 1/1 [00:00<00:00,  3.67it/s]\n",
      "/home/kishan/Documents/Projects/deepsurvival/deep_survival/lib/python3.8/site-packages/torch/nn/modules/container.py:550: UserWarning: Setting attributes on ParameterDict is not supported.\n",
      "  def __setattr__(self, key: Any, value: Any) -> None:\n",
      "  1%|          | 59/10000 [00:00<00:16, 589.70it/s]"
     ]
    },
    {
     "name": "stdout",
     "output_type": "stream",
     "text": [
      "Concordance Index :  0.5535874364331176\n",
      "Brier Score :  0.20441275332748834\n",
      "Cumulative_dynamic AUC :  0.5567953986244022\n",
      "Loss :  4.8264933669627785\n"
     ]
    },
    {
     "name": "stderr",
     "output_type": "stream",
     "text": [
      " 18%|█▊        | 1845/10000 [00:03<00:16, 490.49it/s]\n",
      "  0%|          | 0/1 [00:00<?, ?it/s]"
     ]
    },
    {
     "name": "stdout",
     "output_type": "stream",
     "text": [
      "ParameterDict(  (1): Parameter containing: [torch.DoubleTensor of size 1]) ParameterDict(  (1): Parameter containing: [torch.DoubleTensor of size 1])\n"
     ]
    },
    {
     "name": "stderr",
     "output_type": "stream",
     "text": [
      "100%|██████████| 1/1 [00:00<00:00,  3.99it/s]\n",
      "/home/kishan/Documents/Projects/deepsurvival/deep_survival/lib/python3.8/site-packages/torch/nn/modules/container.py:550: UserWarning: Setting attributes on ParameterDict is not supported.\n",
      "  def __setattr__(self, key: Any, value: Any) -> None:\n",
      "  1%|          | 61/10000 [00:00<00:16, 602.92it/s]"
     ]
    },
    {
     "name": "stdout",
     "output_type": "stream",
     "text": [
      "Concordance Index :  0.6082046327340875\n",
      "Brier Score :  0.20244893106619896\n",
      "Cumulative_dynamic AUC :  0.6259646174631887\n",
      "Loss :  4.799866683497147\n"
     ]
    },
    {
     "name": "stderr",
     "output_type": "stream",
     "text": [
      " 18%|█▊        | 1845/10000 [00:03<00:13, 613.99it/s]\n",
      "  0%|          | 0/1 [00:00<?, ?it/s]"
     ]
    },
    {
     "name": "stdout",
     "output_type": "stream",
     "text": [
      "ParameterDict(  (1): Parameter containing: [torch.DoubleTensor of size 1]) ParameterDict(  (1): Parameter containing: [torch.DoubleTensor of size 1])\n"
     ]
    },
    {
     "name": "stderr",
     "output_type": "stream",
     "text": [
      "100%|██████████| 1/1 [00:00<00:00,  3.41it/s]\n",
      "/home/kishan/Documents/Projects/deepsurvival/deep_survival/lib/python3.8/site-packages/torch/nn/modules/container.py:550: UserWarning: Setting attributes on ParameterDict is not supported.\n",
      "  def __setattr__(self, key: Any, value: Any) -> None:\n",
      "  1%|          | 61/10000 [00:00<00:16, 601.03it/s]"
     ]
    },
    {
     "name": "stdout",
     "output_type": "stream",
     "text": [
      "Concordance Index :  0.7045879115901791\n",
      "Brier Score :  0.18699367458254867\n",
      "Cumulative_dynamic AUC :  0.7359023429109725\n",
      "Loss :  4.717627927991994\n"
     ]
    },
    {
     "name": "stderr",
     "output_type": "stream",
     "text": [
      " 18%|█▊        | 1845/10000 [00:02<00:13, 619.96it/s]\n",
      "  0%|          | 0/1 [00:00<?, ?it/s]"
     ]
    },
    {
     "name": "stdout",
     "output_type": "stream",
     "text": [
      "ParameterDict(  (1): Parameter containing: [torch.DoubleTensor of size 1]) ParameterDict(  (1): Parameter containing: [torch.DoubleTensor of size 1])\n"
     ]
    },
    {
     "name": "stderr",
     "output_type": "stream",
     "text": [
      "100%|██████████| 1/1 [00:00<00:00,  3.16it/s]\n",
      "/home/kishan/Documents/Projects/deepsurvival/deep_survival/lib/python3.8/site-packages/torch/nn/modules/container.py:550: UserWarning: Setting attributes on ParameterDict is not supported.\n",
      "  def __setattr__(self, key: Any, value: Any) -> None:\n",
      "  1%|          | 60/10000 [00:00<00:16, 591.93it/s]"
     ]
    },
    {
     "name": "stdout",
     "output_type": "stream",
     "text": [
      "Concordance Index :  0.6269838697089306\n",
      "Brier Score :  0.20338540633159505\n",
      "Cumulative_dynamic AUC :  0.636704164412775\n",
      "Loss :  4.794959679235666\n"
     ]
    },
    {
     "name": "stderr",
     "output_type": "stream",
     "text": [
      " 18%|█▊        | 1845/10000 [00:03<00:13, 609.43it/s]\n",
      "  0%|          | 0/1 [00:00<?, ?it/s]"
     ]
    },
    {
     "name": "stdout",
     "output_type": "stream",
     "text": [
      "ParameterDict(  (1): Parameter containing: [torch.DoubleTensor of size 1]) ParameterDict(  (1): Parameter containing: [torch.DoubleTensor of size 1])\n"
     ]
    },
    {
     "name": "stderr",
     "output_type": "stream",
     "text": [
      "100%|██████████| 1/1 [00:00<00:00,  3.42it/s]\n",
      "/home/kishan/Documents/Projects/deepsurvival/deep_survival/lib/python3.8/site-packages/torch/nn/modules/container.py:550: UserWarning: Setting attributes on ParameterDict is not supported.\n",
      "  def __setattr__(self, key: Any, value: Any) -> None:\n",
      "  1%|          | 60/10000 [00:00<00:16, 592.18it/s]"
     ]
    },
    {
     "name": "stdout",
     "output_type": "stream",
     "text": [
      "Concordance Index :  0.7079318464971833\n",
      "Brier Score :  0.18098259308473974\n",
      "Cumulative_dynamic AUC :  0.7381333485960703\n",
      "Loss :  4.6964952942440625\n"
     ]
    },
    {
     "name": "stderr",
     "output_type": "stream",
     "text": [
      " 18%|█▊        | 1845/10000 [00:03<00:14, 559.92it/s]\n",
      "  0%|          | 0/1 [00:00<?, ?it/s]"
     ]
    },
    {
     "name": "stdout",
     "output_type": "stream",
     "text": [
      "ParameterDict(  (1): Parameter containing: [torch.DoubleTensor of size 1]) ParameterDict(  (1): Parameter containing: [torch.DoubleTensor of size 1])\n"
     ]
    },
    {
     "name": "stderr",
     "output_type": "stream",
     "text": [
      "100%|██████████| 1/1 [00:00<00:00,  3.24it/s]\n",
      "/home/kishan/Documents/Projects/deepsurvival/deep_survival/lib/python3.8/site-packages/torch/nn/modules/container.py:550: UserWarning: Setting attributes on ParameterDict is not supported.\n",
      "  def __setattr__(self, key: Any, value: Any) -> None:\n",
      "  1%|          | 60/10000 [00:00<00:16, 593.54it/s]"
     ]
    },
    {
     "name": "stdout",
     "output_type": "stream",
     "text": [
      "Concordance Index :  0.4761552714398851\n",
      "Brier Score :  0.21332212209285037\n",
      "Cumulative_dynamic AUC :  0.4829715517979209\n",
      "Loss :  4.877389182290456\n"
     ]
    },
    {
     "name": "stderr",
     "output_type": "stream",
     "text": [
      " 18%|█▊        | 1845/10000 [00:03<00:13, 590.13it/s]\n",
      "  0%|          | 0/1 [00:00<?, ?it/s]"
     ]
    },
    {
     "name": "stdout",
     "output_type": "stream",
     "text": [
      "ParameterDict(  (1): Parameter containing: [torch.DoubleTensor of size 1]) ParameterDict(  (1): Parameter containing: [torch.DoubleTensor of size 1])\n"
     ]
    },
    {
     "name": "stderr",
     "output_type": "stream",
     "text": [
      "100%|██████████| 1/1 [00:00<00:00,  3.91it/s]\n",
      "/home/kishan/Documents/Projects/deepsurvival/deep_survival/lib/python3.8/site-packages/torch/nn/modules/container.py:550: UserWarning: Setting attributes on ParameterDict is not supported.\n",
      "  def __setattr__(self, key: Any, value: Any) -> None:\n",
      "  0%|          | 29/10000 [00:00<00:35, 282.30it/s]"
     ]
    },
    {
     "name": "stdout",
     "output_type": "stream",
     "text": [
      "Concordance Index :  0.5620894963545857\n",
      "Brier Score :  0.20402923588713903\n",
      "Cumulative_dynamic AUC :  0.5700132608227252\n",
      "Loss :  4.860275928372357\n"
     ]
    },
    {
     "name": "stderr",
     "output_type": "stream",
     "text": [
      " 18%|█▊        | 1845/10000 [00:04<00:18, 441.09it/s]\n",
      "  0%|          | 0/1 [00:00<?, ?it/s]"
     ]
    },
    {
     "name": "stdout",
     "output_type": "stream",
     "text": [
      "ParameterDict(  (1): Parameter containing: [torch.DoubleTensor of size 1]) ParameterDict(  (1): Parameter containing: [torch.DoubleTensor of size 1])\n"
     ]
    },
    {
     "name": "stderr",
     "output_type": "stream",
     "text": [
      "100%|██████████| 1/1 [00:00<00:00,  3.11it/s]\n",
      "/home/kishan/Documents/Projects/deepsurvival/deep_survival/lib/python3.8/site-packages/torch/nn/modules/container.py:550: UserWarning: Setting attributes on ParameterDict is not supported.\n",
      "  def __setattr__(self, key: Any, value: Any) -> None:\n",
      "  1%|          | 54/10000 [00:00<00:18, 538.47it/s]"
     ]
    },
    {
     "name": "stdout",
     "output_type": "stream",
     "text": [
      "Concordance Index :  0.5204821260398337\n",
      "Brier Score :  0.2066410101889161\n",
      "Cumulative_dynamic AUC :  0.5284068315841877\n",
      "Loss :  4.8098561867856455\n"
     ]
    },
    {
     "name": "stderr",
     "output_type": "stream",
     "text": [
      " 18%|█▊        | 1845/10000 [00:03<00:14, 560.12it/s]\n",
      "  0%|          | 0/1 [00:00<?, ?it/s]"
     ]
    },
    {
     "name": "stdout",
     "output_type": "stream",
     "text": [
      "ParameterDict(  (1): Parameter containing: [torch.DoubleTensor of size 1]) ParameterDict(  (1): Parameter containing: [torch.DoubleTensor of size 1])\n"
     ]
    },
    {
     "name": "stderr",
     "output_type": "stream",
     "text": [
      "100%|██████████| 1/1 [00:00<00:00,  2.49it/s]\n",
      "/home/kishan/Documents/Projects/deepsurvival/deep_survival/lib/python3.8/site-packages/torch/nn/modules/container.py:550: UserWarning: Setting attributes on ParameterDict is not supported.\n",
      "  def __setattr__(self, key: Any, value: Any) -> None:\n",
      "  1%|          | 60/10000 [00:00<00:16, 594.67it/s]"
     ]
    },
    {
     "name": "stdout",
     "output_type": "stream",
     "text": [
      "Concordance Index :  0.6916425014815677\n",
      "Brier Score :  0.18811214074225047\n",
      "Cumulative_dynamic AUC :  0.7199391352231013\n",
      "Loss :  4.724492120994699\n"
     ]
    },
    {
     "name": "stderr",
     "output_type": "stream",
     "text": [
      " 18%|█▊        | 1845/10000 [00:03<00:14, 549.09it/s]\n",
      "  0%|          | 0/1 [00:00<?, ?it/s]"
     ]
    },
    {
     "name": "stdout",
     "output_type": "stream",
     "text": [
      "ParameterDict(  (1): Parameter containing: [torch.DoubleTensor of size 1]) ParameterDict(  (1): Parameter containing: [torch.DoubleTensor of size 1])\n"
     ]
    },
    {
     "name": "stderr",
     "output_type": "stream",
     "text": [
      "100%|██████████| 1/1 [00:00<00:00,  2.86it/s]\n",
      "/home/kishan/Documents/Projects/deepsurvival/deep_survival/lib/python3.8/site-packages/torch/nn/modules/container.py:550: UserWarning: Setting attributes on ParameterDict is not supported.\n",
      "  def __setattr__(self, key: Any, value: Any) -> None:\n",
      "  0%|          | 0/10000 [00:00<?, ?it/s]"
     ]
    },
    {
     "name": "stdout",
     "output_type": "stream",
     "text": [
      "Concordance Index :  0.600542238303932\n",
      "Brier Score :  0.2040475448650556\n",
      "Cumulative_dynamic AUC :  0.6045446965756723\n",
      "Loss :  4.7956134615520725\n"
     ]
    },
    {
     "name": "stderr",
     "output_type": "stream",
     "text": [
      " 18%|█▊        | 1845/10000 [00:05<00:22, 366.19it/s]\n",
      "  0%|          | 0/1 [00:00<?, ?it/s]"
     ]
    },
    {
     "name": "stdout",
     "output_type": "stream",
     "text": [
      "ParameterDict(  (1): Parameter containing: [torch.DoubleTensor of size 1]) ParameterDict(  (1): Parameter containing: [torch.DoubleTensor of size 1])\n"
     ]
    },
    {
     "name": "stderr",
     "output_type": "stream",
     "text": [
      "100%|██████████| 1/1 [00:00<00:00,  2.14it/s]\n",
      "/home/kishan/Documents/Projects/deepsurvival/deep_survival/lib/python3.8/site-packages/torch/nn/modules/container.py:550: UserWarning: Setting attributes on ParameterDict is not supported.\n",
      "  def __setattr__(self, key: Any, value: Any) -> None:\n",
      "  0%|          | 33/10000 [00:00<00:31, 316.58it/s]"
     ]
    },
    {
     "name": "stdout",
     "output_type": "stream",
     "text": [
      "Concordance Index :  0.7118981720870224\n",
      "Brier Score :  0.1808478439147274\n",
      "Cumulative_dynamic AUC :  0.7431077239291652\n",
      "Loss :  4.697957108832513\n"
     ]
    },
    {
     "name": "stderr",
     "output_type": "stream",
     "text": [
      " 18%|█▊        | 1845/10000 [00:05<00:23, 347.27it/s]\n",
      "  0%|          | 0/1 [00:00<?, ?it/s]"
     ]
    },
    {
     "name": "stdout",
     "output_type": "stream",
     "text": [
      "ParameterDict(  (1): Parameter containing: [torch.DoubleTensor of size 1]) ParameterDict(  (1): Parameter containing: [torch.DoubleTensor of size 1])\n"
     ]
    },
    {
     "name": "stderr",
     "output_type": "stream",
     "text": [
      "100%|██████████| 1/1 [00:00<00:00,  3.33it/s]\n",
      "/home/kishan/Documents/Projects/deepsurvival/deep_survival/lib/python3.8/site-packages/torch/nn/modules/container.py:550: UserWarning: Setting attributes on ParameterDict is not supported.\n",
      "  def __setattr__(self, key: Any, value: Any) -> None:\n",
      "  1%|          | 58/10000 [00:00<00:17, 578.13it/s]"
     ]
    },
    {
     "name": "stdout",
     "output_type": "stream",
     "text": [
      "Concordance Index :  0.5841979390760148\n",
      "Brier Score :  0.2035168513892458\n",
      "Cumulative_dynamic AUC :  0.5929726545298952\n",
      "Loss :  4.917432054487191\n"
     ]
    },
    {
     "name": "stderr",
     "output_type": "stream",
     "text": [
      " 18%|█▊        | 1845/10000 [00:03<00:17, 467.84it/s]\n",
      "  0%|          | 0/1 [00:00<?, ?it/s]"
     ]
    },
    {
     "name": "stdout",
     "output_type": "stream",
     "text": [
      "ParameterDict(  (1): Parameter containing: [torch.DoubleTensor of size 1]) ParameterDict(  (1): Parameter containing: [torch.DoubleTensor of size 1])\n"
     ]
    },
    {
     "name": "stderr",
     "output_type": "stream",
     "text": [
      "100%|██████████| 1/1 [00:00<00:00,  2.03it/s]\n",
      "/home/kishan/Documents/Projects/deepsurvival/deep_survival/lib/python3.8/site-packages/torch/nn/modules/container.py:550: UserWarning: Setting attributes on ParameterDict is not supported.\n",
      "  def __setattr__(self, key: Any, value: Any) -> None:\n",
      "  1%|          | 54/10000 [00:00<00:18, 536.82it/s]"
     ]
    },
    {
     "name": "stdout",
     "output_type": "stream",
     "text": [
      "Concordance Index :  0.5734810205386357\n",
      "Brier Score :  0.2010310526082355\n",
      "Cumulative_dynamic AUC :  0.5876049777835015\n",
      "Loss :  4.829156068749626\n"
     ]
    },
    {
     "name": "stderr",
     "output_type": "stream",
     "text": [
      " 18%|█▊        | 1845/10000 [00:03<00:16, 499.13it/s]\n",
      "  0%|          | 0/1 [00:00<?, ?it/s]"
     ]
    },
    {
     "name": "stdout",
     "output_type": "stream",
     "text": [
      "ParameterDict(  (1): Parameter containing: [torch.DoubleTensor of size 1]) ParameterDict(  (1): Parameter containing: [torch.DoubleTensor of size 1])\n"
     ]
    },
    {
     "name": "stderr",
     "output_type": "stream",
     "text": [
      "100%|██████████| 1/1 [00:00<00:00,  3.07it/s]\n",
      "/home/kishan/Documents/Projects/deepsurvival/deep_survival/lib/python3.8/site-packages/torch/nn/modules/container.py:550: UserWarning: Setting attributes on ParameterDict is not supported.\n",
      "  def __setattr__(self, key: Any, value: Any) -> None:\n",
      "  1%|          | 65/10000 [00:00<00:15, 644.03it/s]"
     ]
    },
    {
     "name": "stdout",
     "output_type": "stream",
     "text": [
      "Concordance Index :  0.5327354488083783\n",
      "Brier Score :  0.2054724660310482\n",
      "Cumulative_dynamic AUC :  0.5371647296986414\n",
      "Loss :  4.81038037533592\n"
     ]
    },
    {
     "name": "stderr",
     "output_type": "stream",
     "text": [
      " 18%|█▊        | 1845/10000 [00:04<00:21, 386.93it/s]\n",
      "  0%|          | 0/1 [00:00<?, ?it/s]"
     ]
    },
    {
     "name": "stdout",
     "output_type": "stream",
     "text": [
      "ParameterDict(  (1): Parameter containing: [torch.DoubleTensor of size 1]) ParameterDict(  (1): Parameter containing: [torch.DoubleTensor of size 1])\n"
     ]
    },
    {
     "name": "stderr",
     "output_type": "stream",
     "text": [
      "100%|██████████| 1/1 [00:00<00:00,  2.23it/s]\n",
      "/home/kishan/Documents/Projects/deepsurvival/deep_survival/lib/python3.8/site-packages/torch/nn/modules/container.py:550: UserWarning: Setting attributes on ParameterDict is not supported.\n",
      "  def __setattr__(self, key: Any, value: Any) -> None:\n",
      "  1%|          | 56/10000 [00:00<00:18, 551.08it/s]"
     ]
    },
    {
     "name": "stdout",
     "output_type": "stream",
     "text": [
      "Concordance Index :  0.703657471635209\n",
      "Brier Score :  0.18868197499431538\n",
      "Cumulative_dynamic AUC :  0.7338582000726247\n",
      "Loss :  4.724388493402182\n"
     ]
    },
    {
     "name": "stderr",
     "output_type": "stream",
     "text": [
      " 18%|█▊        | 1845/10000 [00:08<00:38, 211.35it/s]\n",
      "  0%|          | 0/1 [00:00<?, ?it/s]"
     ]
    },
    {
     "name": "stdout",
     "output_type": "stream",
     "text": [
      "ParameterDict(  (1): Parameter containing: [torch.DoubleTensor of size 1]) ParameterDict(  (1): Parameter containing: [torch.DoubleTensor of size 1])\n"
     ]
    },
    {
     "name": "stderr",
     "output_type": "stream",
     "text": [
      "100%|██████████| 1/1 [00:00<00:00,  2.65it/s]\n",
      "/home/kishan/Documents/Projects/deepsurvival/deep_survival/lib/python3.8/site-packages/torch/nn/modules/container.py:550: UserWarning: Setting attributes on ParameterDict is not supported.\n",
      "  def __setattr__(self, key: Any, value: Any) -> None:\n",
      "  1%|          | 63/10000 [00:00<00:15, 624.42it/s]"
     ]
    },
    {
     "name": "stdout",
     "output_type": "stream",
     "text": [
      "Concordance Index :  0.6053654376643375\n",
      "Brier Score :  0.20453821000498004\n",
      "Cumulative_dynamic AUC :  0.6214953596409268\n",
      "Loss :  4.7978640174777984\n"
     ]
    },
    {
     "name": "stderr",
     "output_type": "stream",
     "text": [
      " 18%|█▊        | 1845/10000 [00:03<00:13, 584.94it/s]\n",
      "  0%|          | 0/1 [00:00<?, ?it/s]"
     ]
    },
    {
     "name": "stdout",
     "output_type": "stream",
     "text": [
      "ParameterDict(  (1): Parameter containing: [torch.DoubleTensor of size 1]) ParameterDict(  (1): Parameter containing: [torch.DoubleTensor of size 1])\n"
     ]
    },
    {
     "name": "stderr",
     "output_type": "stream",
     "text": [
      "100%|██████████| 1/1 [00:00<00:00,  2.53it/s]"
     ]
    },
    {
     "name": "stdout",
     "output_type": "stream",
     "text": [
      "Concordance Index :  0.7024901104239617\n",
      "Brier Score :  0.18258214715843393\n",
      "Cumulative_dynamic AUC :  0.7330286501128546\n",
      "Loss :  4.69341484362596\n"
     ]
    },
    {
     "name": "stderr",
     "output_type": "stream",
     "text": [
      "\n"
     ]
    }
   ],
   "source": [
    "loss = []\n",
    "for param in params:\n",
    "    model = DeepSurvivalMachines(k = param['k'],\n",
    "                                 distribution = param['distribution'],\n",
    "                                 layers = param['layers'])\n",
    "    model.fit(x_train, t_train, e_train, learning_rate = param['learning_rate'])\n",
    "    out_risk = model.predict_risk(x_val, times)\n",
    "    out_survival = model.predict_survival(x_val, times)\n",
    "\n",
    "    cis = []\n",
    "    brs = []\n",
    "    for i, _ in enumerate(times):\n",
    "        cis.append(concordance_index_ipcw(et_train, et_val, out_risk[:, i], times[i])[0])\n",
    "\n",
    "    brs.append(brier_score(et_train, et_val, out_survival, times)[1])\n",
    "    print(\"Concordance Index : \", np.mean(cis))\n",
    "    print(\"Brier Score : \", np.mean(brs))\n",
    "    cdauc = []\n",
    "    for i, _ in enumerate(times):\n",
    "        cdauc.append(cumulative_dynamic_auc(et_train, et_val, out_risk[:, i], times[i])[0])\n",
    "    print(\"Cumulative_dynamic AUC : \", np.mean(cdauc))\n",
    "    #print(param)\n",
    "    loss = loss + [[model.compute_nll(x_train, t_train, e_train), param]]\n",
    "    print(\"Loss : \", model.compute_nll(x_train, t_train, e_train))"
   ]
  },
  {
   "cell_type": "code",
   "execution_count": 31,
   "metadata": {},
   "outputs": [],
   "source": [
    "best_param = min(loss)"
   ]
  },
  {
   "cell_type": "markdown",
   "metadata": {},
   "source": [
    "### Training  "
   ]
  },
  {
   "cell_type": "code",
   "execution_count": 32,
   "metadata": {},
   "outputs": [
    {
     "name": "stderr",
     "output_type": "stream",
     "text": [
      "/home/kishan/Documents/Projects/deepsurvival/deep_survival/lib/python3.8/site-packages/torch/nn/modules/container.py:550: UserWarning: Setting attributes on ParameterDict is not supported.\n",
      "  def __setattr__(self, key: Any, value: Any) -> None:\n",
      " 12%|█▏        | 1240/10000 [00:02<00:16, 523.29it/s]\n",
      "  0%|          | 0/1 [00:00<?, ?it/s]"
     ]
    },
    {
     "name": "stdout",
     "output_type": "stream",
     "text": [
      "ParameterDict(  (1): Parameter containing: [torch.DoubleTensor of size 1]) ParameterDict(  (1): Parameter containing: [torch.DoubleTensor of size 1])\n"
     ]
    },
    {
     "name": "stderr",
     "output_type": "stream",
     "text": [
      "100%|██████████| 1/1 [00:00<00:00,  2.21it/s]\n"
     ]
    },
    {
     "data": {
      "text/plain": [
       "<dsm.dsm_api.DeepSurvivalMachines at 0x7f2c87766e80>"
      ]
     },
     "execution_count": 32,
     "metadata": {},
     "output_type": "execute_result"
    }
   ],
   "source": [
    "model = DeepSurvivalMachines(k = best_param[1]['k'],\n",
    "                                 distribution = best_param[1]['distribution'],\n",
    "                                 layers = best_param[1]['layers'])\n",
    "model.fit(x_train, t_train, e_train,\n",
    "          learning_rate = best_param[1]['learning_rate'])"
   ]
  },
  {
   "cell_type": "markdown",
   "metadata": {},
   "source": [
    "### Prediction "
   ]
  },
  {
   "cell_type": "code",
   "execution_count": 33,
   "metadata": {},
   "outputs": [],
   "source": [
    "out_risk = model.predict_risk(x_test, times)\n",
    "out_survival = model.predict_survival(x_test, times)"
   ]
  },
  {
   "cell_type": "markdown",
   "metadata": {},
   "source": [
    "### Evaluation"
   ]
  },
  {
   "cell_type": "code",
   "execution_count": 34,
   "metadata": {},
   "outputs": [
    {
     "name": "stdout",
     "output_type": "stream",
     "text": [
      "Concordance Index: 0.7012368502533013\n",
      "Brier Score: 0.17760451012060388\n",
      "Cumulative_dynamic AUC  0.7302332917015416\n"
     ]
    }
   ],
   "source": [
    "cis = []\n",
    "brs = []\n",
    "for i, _ in enumerate(times):\n",
    "    cis.append(concordance_index_ipcw(et_train, et_test, out_risk[:, i], times[i])[0])\n",
    "\n",
    "brs.append(brier_score(et_train, et_test, out_survival, times)[1])\n",
    "print(\"Concordance Index:\", np.mean(cis))\n",
    "print(\"Brier Score:\", np.mean(brs))\n",
    "cdauc = []\n",
    "for i, _ in enumerate(times):\n",
    "    cdauc.append(cumulative_dynamic_auc(et_train, et_test, out_risk[:, i], times[i])[0])\n",
    "print(\"Cumulative_dynamic AUC \", np.mean(cdauc))"
   ]
  }
 ],
 "metadata": {
  "kernelspec": {
   "display_name": "Python 3",
   "language": "python",
   "name": "python3"
  },
  "language_info": {
   "codemirror_mode": {
    "name": "ipython",
    "version": 3
   },
   "file_extension": ".py",
   "mimetype": "text/x-python",
   "name": "python",
   "nbconvert_exporter": "python",
   "pygments_lexer": "ipython3",
   "version": "3.8.5"
  }
 },
 "nbformat": 4,
 "nbformat_minor": 4
}
