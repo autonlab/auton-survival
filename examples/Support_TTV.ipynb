{
 "cells": [
  {
   "cell_type": "markdown",
   "metadata": {},
   "source": [
    "# Train/Test/Validation Split"
   ]
  },
  {
   "cell_type": "code",
   "execution_count": 1,
   "metadata": {},
   "outputs": [],
   "source": [
    "from dsm import datasets\n",
    "from dsm.dsm_api import DeepSurvivalMachines\n",
    "\n",
    "import numpy as np\n",
    "\n",
    "from sklearn.model_selection import ParameterGrid\n",
    "from sksurv.metrics import concordance_index_ipcw, brier_score, cumulative_dynamic_auc"
   ]
  },
  {
   "cell_type": "markdown",
   "metadata": {},
   "source": [
    "### Loading the Support Dataset "
   ]
  },
  {
   "cell_type": "code",
   "execution_count": 2,
   "metadata": {},
   "outputs": [],
   "source": [
    "x, t, e = datasets.load_dataset('SUPPORT')"
   ]
  },
  {
   "cell_type": "markdown",
   "metadata": {},
   "source": [
    "### Computing the required quantile of the data "
   ]
  },
  {
   "cell_type": "code",
   "execution_count": 3,
   "metadata": {},
   "outputs": [],
   "source": [
    "times = np.quantile(t[e == 1], [0.25, 0.5, 0.75]).tolist()"
   ]
  },
  {
   "cell_type": "markdown",
   "metadata": {},
   "source": [
    "### Defining the train, test and validation size"
   ]
  },
  {
   "cell_type": "code",
   "execution_count": 4,
   "metadata": {
    "scrolled": false
   },
   "outputs": [],
   "source": [
    "data_size = len(x)\n",
    "tr_size = round(data_size * 0.70)\n",
    "vl_size = round(data_size * 0.10)\n",
    "te_size = round(data_size * 0.20)"
   ]
  },
  {
   "cell_type": "markdown",
   "metadata": {},
   "source": [
    "### Splitting the data into train, test and validation sets"
   ]
  },
  {
   "cell_type": "code",
   "execution_count": 8,
   "metadata": {},
   "outputs": [],
   "source": [
    "x_train = x[: tr_size]\n",
    "t_train = t[: tr_size]\n",
    "e_train = e[: tr_size]\n",
    "\n",
    "x_test = x[-te_size :]\n",
    "t_test = t[-te_size :]\n",
    "e_test = e[-te_size :]\n",
    "\n",
    "x_val = x[tr_size : tr_size + vl_size]\n",
    "t_val = t[tr_size : tr_size + vl_size]\n",
    "e_val = e[tr_size : tr_size + vl_size]"
   ]
  },
  {
   "cell_type": "code",
   "execution_count": 9,
   "metadata": {},
   "outputs": [],
   "source": [
    "et_train = np.array([(e_train[i], t_train[i]) for i in range(len(e_train))],\n",
    "                 dtype = [('e', bool), ('t', int)])\n",
    "et_test = np.array([(e_test[i], t_test[i]) for i in range(len(e_test))],\n",
    "                 dtype = [('e', bool), ('t', int)])\n",
    "et_val = np.array([(e_val[i], t_val[i]) for i in range(len(e_val))],\n",
    "                 dtype = [('e', bool), ('t', int)])"
   ]
  },
  {
   "cell_type": "code",
   "execution_count": 10,
   "metadata": {},
   "outputs": [
    {
     "name": "stdout",
     "output_type": "stream",
     "text": [
      "(6374,) (1821,) (910,)\n"
     ]
    }
   ],
   "source": [
    "print(et_train.shape, et_test.shape, et_val.shape)"
   ]
  },
  {
   "cell_type": "markdown",
   "metadata": {},
   "source": [
    "### Defining the parameter grid"
   ]
  },
  {
   "cell_type": "code",
   "execution_count": 11,
   "metadata": {},
   "outputs": [],
   "source": [
    "param_grid = {'k' : [3, 4, 6],\n",
    "              'distribution' : ['LogNormal', 'Weibull'],\n",
    "              'learning_rate' : [ float(1e-4), float(1e-3)],\n",
    "              'layers' : [ [], [100], [100, 100] ]\n",
    "             }\n",
    "params = ParameterGrid(param_grid)"
   ]
  },
  {
   "cell_type": "markdown",
   "metadata": {},
   "source": [
    "### Validation "
   ]
  },
  {
   "cell_type": "code",
   "execution_count": 12,
   "metadata": {},
   "outputs": [
    {
     "name": "stderr",
     "output_type": "stream",
     "text": [
      "  0%|          | 0/10000 [00:00<?, ?it/s]/home/kishan/Documents/Projects/deepsurvival/deep_survival/lib/python3.8/site-packages/torch/autograd/__init__.py:130: UserWarning: CUDA initialization: Found no NVIDIA driver on your system. Please check that you have an NVIDIA GPU and installed a driver from http://www.nvidia.com/Download/index.aspx (Triggered internally at  /pytorch/c10/cuda/CUDAFunctions.cpp:100.)\n",
      "  Variable._execution_engine.run_backward(\n",
      " 12%|█▏        | 1240/10000 [00:02<00:20, 430.34it/s]\n",
      "100%|██████████| 1/1 [00:00<00:00,  2.40it/s]\n",
      "  0%|          | 46/10000 [00:00<00:22, 452.18it/s]"
     ]
    },
    {
     "name": "stdout",
     "output_type": "stream",
     "text": [
      "Concordance Index: 0.45340340953800856\n",
      "Brier Score: 0.2120856405467805\n",
      "Cumulative_dynamic AUC  0.4325276050509048\n",
      "{'distribution': 'LogNormal', 'k': 3, 'layers': [], 'learning_rate': 0.0001}\n"
     ]
    },
    {
     "name": "stderr",
     "output_type": "stream",
     "text": [
      " 12%|█▏        | 1240/10000 [00:02<00:18, 482.10it/s]\n",
      "100%|██████████| 1/1 [00:00<00:00,  6.98it/s]\n",
      "  1%|          | 61/10000 [00:00<00:16, 602.23it/s]"
     ]
    },
    {
     "name": "stdout",
     "output_type": "stream",
     "text": [
      "Concordance Index: 0.5868530920885563\n",
      "Brier Score: 0.2000913347679684\n",
      "Cumulative_dynamic AUC  0.6063103268431748\n",
      "{'distribution': 'LogNormal', 'k': 3, 'layers': [], 'learning_rate': 0.001}\n"
     ]
    },
    {
     "name": "stderr",
     "output_type": "stream",
     "text": [
      " 12%|█▏        | 1240/10000 [00:02<00:14, 592.76it/s]\n",
      "100%|██████████| 1/1 [00:00<00:00,  4.29it/s]\n",
      "  1%|          | 58/10000 [00:00<00:17, 572.61it/s]"
     ]
    },
    {
     "name": "stdout",
     "output_type": "stream",
     "text": [
      "Concordance Index: 0.5196558945077734\n",
      "Brier Score: 0.20453532747201106\n",
      "Cumulative_dynamic AUC  0.5207638770294832\n",
      "{'distribution': 'LogNormal', 'k': 3, 'layers': [100], 'learning_rate': 0.0001}\n"
     ]
    },
    {
     "name": "stderr",
     "output_type": "stream",
     "text": [
      " 12%|█▏        | 1240/10000 [00:02<00:14, 592.35it/s]\n",
      "100%|██████████| 1/1 [00:00<00:00,  5.26it/s]\n",
      "  1%|          | 64/10000 [00:00<00:15, 636.81it/s]"
     ]
    },
    {
     "name": "stdout",
     "output_type": "stream",
     "text": [
      "Concordance Index: 0.6859982768146832\n",
      "Brier Score: 0.18952182660274805\n",
      "Cumulative_dynamic AUC  0.717028369155304\n",
      "{'distribution': 'LogNormal', 'k': 3, 'layers': [100], 'learning_rate': 0.001}\n"
     ]
    },
    {
     "name": "stderr",
     "output_type": "stream",
     "text": [
      " 12%|█▏        | 1240/10000 [00:02<00:16, 540.19it/s]\n",
      "100%|██████████| 1/1 [00:00<00:00,  4.35it/s]\n",
      "  0%|          | 33/10000 [00:00<00:30, 326.17it/s]"
     ]
    },
    {
     "name": "stdout",
     "output_type": "stream",
     "text": [
      "Concordance Index: 0.6365066758765581\n",
      "Brier Score: 0.20278208010307205\n",
      "Cumulative_dynamic AUC  0.6556533791977494\n",
      "{'distribution': 'LogNormal', 'k': 3, 'layers': [100, 100], 'learning_rate': 0.0001}\n"
     ]
    },
    {
     "name": "stderr",
     "output_type": "stream",
     "text": [
      " 12%|█▏        | 1240/10000 [00:02<00:15, 570.21it/s]\n",
      "100%|██████████| 1/1 [00:00<00:00,  4.71it/s]\n",
      "  1%|          | 60/10000 [00:00<00:16, 598.40it/s]"
     ]
    },
    {
     "name": "stdout",
     "output_type": "stream",
     "text": [
      "Concordance Index: 0.6980410911851789\n",
      "Brier Score: 0.186164633385437\n",
      "Cumulative_dynamic AUC  0.7278002430124927\n",
      "{'distribution': 'LogNormal', 'k': 3, 'layers': [100, 100], 'learning_rate': 0.001}\n"
     ]
    },
    {
     "name": "stderr",
     "output_type": "stream",
     "text": [
      " 12%|█▏        | 1240/10000 [00:02<00:14, 587.06it/s]\n",
      "100%|██████████| 1/1 [00:00<00:00,  5.90it/s]\n",
      "  1%|          | 51/10000 [00:00<00:19, 506.41it/s]"
     ]
    },
    {
     "name": "stdout",
     "output_type": "stream",
     "text": [
      "Concordance Index: 0.46215208842170163\n",
      "Brier Score: 0.20839325631897473\n",
      "Cumulative_dynamic AUC  0.46804170098645265\n",
      "{'distribution': 'LogNormal', 'k': 4, 'layers': [], 'learning_rate': 0.0001}\n"
     ]
    },
    {
     "name": "stderr",
     "output_type": "stream",
     "text": [
      " 12%|█▏        | 1240/10000 [00:02<00:15, 582.93it/s]\n",
      "100%|██████████| 1/1 [00:00<00:00,  6.32it/s]\n",
      "  1%|          | 60/10000 [00:00<00:16, 593.53it/s]"
     ]
    },
    {
     "name": "stdout",
     "output_type": "stream",
     "text": [
      "Concordance Index: 0.6354333768613575\n",
      "Brier Score: 0.1960336595711897\n",
      "Cumulative_dynamic AUC  0.6636556147146971\n",
      "{'distribution': 'LogNormal', 'k': 4, 'layers': [], 'learning_rate': 0.001}\n"
     ]
    },
    {
     "name": "stderr",
     "output_type": "stream",
     "text": [
      " 12%|█▏        | 1240/10000 [00:02<00:14, 588.32it/s]\n",
      "100%|██████████| 1/1 [00:00<00:00,  5.39it/s]\n",
      "  1%|          | 59/10000 [00:00<00:16, 585.72it/s]"
     ]
    },
    {
     "name": "stdout",
     "output_type": "stream",
     "text": [
      "Concordance Index: 0.5942250292158068\n",
      "Brier Score: 0.2024949091777255\n",
      "Cumulative_dynamic AUC  0.6038333298925812\n",
      "{'distribution': 'LogNormal', 'k': 4, 'layers': [100], 'learning_rate': 0.0001}\n"
     ]
    },
    {
     "name": "stderr",
     "output_type": "stream",
     "text": [
      " 12%|█▏        | 1240/10000 [00:02<00:14, 585.69it/s]\n",
      "100%|██████████| 1/1 [00:00<00:00,  5.37it/s]\n",
      "  1%|          | 60/10000 [00:00<00:16, 595.54it/s]"
     ]
    },
    {
     "name": "stdout",
     "output_type": "stream",
     "text": [
      "Concordance Index: 0.680827491886742\n",
      "Brier Score: 0.1909926945502677\n",
      "Cumulative_dynamic AUC  0.7087961885128095\n",
      "{'distribution': 'LogNormal', 'k': 4, 'layers': [100], 'learning_rate': 0.001}\n"
     ]
    },
    {
     "name": "stderr",
     "output_type": "stream",
     "text": [
      " 12%|█▏        | 1240/10000 [00:01<00:14, 620.06it/s]\n",
      "100%|██████████| 1/1 [00:00<00:00,  5.20it/s]\n",
      "  1%|          | 59/10000 [00:00<00:16, 586.40it/s]"
     ]
    },
    {
     "name": "stdout",
     "output_type": "stream",
     "text": [
      "Concordance Index: 0.6529878889301487\n",
      "Brier Score: 0.20270261177977067\n",
      "Cumulative_dynamic AUC  0.6795711191738834\n",
      "{'distribution': 'LogNormal', 'k': 4, 'layers': [100, 100], 'learning_rate': 0.0001}\n"
     ]
    },
    {
     "name": "stderr",
     "output_type": "stream",
     "text": [
      " 12%|█▏        | 1240/10000 [00:01<00:13, 625.88it/s]\n",
      "100%|██████████| 1/1 [00:00<00:00,  5.21it/s]\n",
      "  1%|          | 61/10000 [00:00<00:16, 602.37it/s]"
     ]
    },
    {
     "name": "stdout",
     "output_type": "stream",
     "text": [
      "Concordance Index: 0.6861435130326664\n",
      "Brier Score: 0.19044132852802934\n",
      "Cumulative_dynamic AUC  0.7207597059035754\n",
      "{'distribution': 'LogNormal', 'k': 4, 'layers': [100, 100], 'learning_rate': 0.001}\n"
     ]
    },
    {
     "name": "stderr",
     "output_type": "stream",
     "text": [
      " 12%|█▏        | 1240/10000 [00:02<00:15, 570.97it/s]\n",
      "100%|██████████| 1/1 [00:00<00:00,  3.40it/s]\n",
      "  1%|          | 59/10000 [00:00<00:16, 587.93it/s]"
     ]
    },
    {
     "name": "stdout",
     "output_type": "stream",
     "text": [
      "Concordance Index: 0.5302643526526526\n",
      "Brier Score: 0.20577185843790813\n",
      "Cumulative_dynamic AUC  0.5259841488637905\n",
      "{'distribution': 'LogNormal', 'k': 6, 'layers': [], 'learning_rate': 0.0001}\n"
     ]
    },
    {
     "name": "stderr",
     "output_type": "stream",
     "text": [
      " 12%|█▏        | 1240/10000 [00:02<00:15, 556.44it/s]\n",
      "100%|██████████| 1/1 [00:00<00:00,  4.89it/s]\n",
      "  1%|          | 57/10000 [00:00<00:17, 569.55it/s]"
     ]
    },
    {
     "name": "stdout",
     "output_type": "stream",
     "text": [
      "Concordance Index: 0.6406275340947074\n",
      "Brier Score: 0.19703457713583417\n",
      "Cumulative_dynamic AUC  0.6640191026181977\n",
      "{'distribution': 'LogNormal', 'k': 6, 'layers': [], 'learning_rate': 0.001}\n"
     ]
    },
    {
     "name": "stderr",
     "output_type": "stream",
     "text": [
      " 12%|█▏        | 1240/10000 [00:02<00:14, 605.16it/s]\n",
      "100%|██████████| 1/1 [00:00<00:00,  4.40it/s]\n",
      "  1%|          | 59/10000 [00:00<00:17, 576.88it/s]"
     ]
    },
    {
     "name": "stdout",
     "output_type": "stream",
     "text": [
      "Concordance Index: 0.5550278989857907\n",
      "Brier Score: 0.20467083817040485\n",
      "Cumulative_dynamic AUC  0.5732934023211531\n",
      "{'distribution': 'LogNormal', 'k': 6, 'layers': [100], 'learning_rate': 0.0001}\n"
     ]
    },
    {
     "name": "stderr",
     "output_type": "stream",
     "text": [
      " 12%|█▏        | 1240/10000 [00:02<00:15, 556.80it/s]\n",
      "100%|██████████| 1/1 [00:00<00:00,  4.44it/s]\n",
      "  1%|          | 58/10000 [00:00<00:17, 574.02it/s]"
     ]
    },
    {
     "name": "stdout",
     "output_type": "stream",
     "text": [
      "Concordance Index: 0.6935590743040007\n",
      "Brier Score: 0.1897312861601562\n",
      "Cumulative_dynamic AUC  0.7242164820273551\n",
      "{'distribution': 'LogNormal', 'k': 6, 'layers': [100], 'learning_rate': 0.001}\n"
     ]
    },
    {
     "name": "stderr",
     "output_type": "stream",
     "text": [
      " 12%|█▏        | 1240/10000 [00:02<00:14, 612.05it/s]\n",
      "100%|██████████| 1/1 [00:00<00:00,  4.24it/s]\n",
      "  1%|          | 60/10000 [00:00<00:16, 591.39it/s]"
     ]
    },
    {
     "name": "stdout",
     "output_type": "stream",
     "text": [
      "Concordance Index: 0.6271994007602202\n",
      "Brier Score: 0.2038126153471652\n",
      "Cumulative_dynamic AUC  0.6461344733276411\n",
      "{'distribution': 'LogNormal', 'k': 6, 'layers': [100, 100], 'learning_rate': 0.0001}\n"
     ]
    },
    {
     "name": "stderr",
     "output_type": "stream",
     "text": [
      " 12%|█▏        | 1240/10000 [00:02<00:14, 599.20it/s]\n",
      "100%|██████████| 1/1 [00:00<00:00,  4.21it/s]\n",
      "  0%|          | 3/10000 [00:00<05:41, 29.30it/s]"
     ]
    },
    {
     "name": "stdout",
     "output_type": "stream",
     "text": [
      "Concordance Index: 0.6893133200733587\n",
      "Brier Score: 0.19022108973346144\n",
      "Cumulative_dynamic AUC  0.7209618134702657\n",
      "{'distribution': 'LogNormal', 'k': 6, 'layers': [100, 100], 'learning_rate': 0.001}\n"
     ]
    },
    {
     "name": "stderr",
     "output_type": "stream",
     "text": [
      " 18%|█▊        | 1845/10000 [00:02<00:12, 649.49it/s]\n",
      "100%|██████████| 1/1 [00:00<00:00,  8.34it/s]\n",
      "  1%|          | 67/10000 [00:00<00:14, 664.84it/s]"
     ]
    },
    {
     "name": "stdout",
     "output_type": "stream",
     "text": [
      "Concordance Index: 0.5080991660444875\n",
      "Brier Score: 0.2106066316999924\n",
      "Cumulative_dynamic AUC  0.5001444692832061\n",
      "{'distribution': 'Weibull', 'k': 3, 'layers': [], 'learning_rate': 0.0001}\n"
     ]
    },
    {
     "name": "stderr",
     "output_type": "stream",
     "text": [
      " 18%|█▊        | 1845/10000 [00:02<00:12, 670.87it/s]\n",
      "100%|██████████| 1/1 [00:00<00:00,  8.40it/s]\n",
      "  1%|          | 65/10000 [00:00<00:15, 641.34it/s]"
     ]
    },
    {
     "name": "stdout",
     "output_type": "stream",
     "text": [
      "Concordance Index: 0.5425327274077133\n",
      "Brier Score: 0.20629606293671854\n",
      "Cumulative_dynamic AUC  0.5391945715171822\n",
      "{'distribution': 'Weibull', 'k': 3, 'layers': [], 'learning_rate': 0.001}\n"
     ]
    },
    {
     "name": "stderr",
     "output_type": "stream",
     "text": [
      " 18%|█▊        | 1845/10000 [00:02<00:12, 676.74it/s]\n",
      "100%|██████████| 1/1 [00:00<00:00,  6.06it/s]\n",
      "  1%|          | 68/10000 [00:00<00:14, 671.83it/s]"
     ]
    },
    {
     "name": "stdout",
     "output_type": "stream",
     "text": [
      "Concordance Index: 0.5931411960701646\n",
      "Brier Score: 0.20299695028498696\n",
      "Cumulative_dynamic AUC  0.6115004776175379\n",
      "{'distribution': 'Weibull', 'k': 3, 'layers': [100], 'learning_rate': 0.0001}\n"
     ]
    },
    {
     "name": "stderr",
     "output_type": "stream",
     "text": [
      " 18%|█▊        | 1845/10000 [00:02<00:12, 678.30it/s]\n",
      "100%|██████████| 1/1 [00:00<00:00,  7.34it/s]\n",
      "  1%|          | 64/10000 [00:00<00:15, 632.59it/s]"
     ]
    },
    {
     "name": "stdout",
     "output_type": "stream",
     "text": [
      "Concordance Index: 0.7102077987736953\n",
      "Brier Score: 0.1849977845614227\n",
      "Cumulative_dynamic AUC  0.7388547775107428\n",
      "{'distribution': 'Weibull', 'k': 3, 'layers': [100], 'learning_rate': 0.001}\n"
     ]
    },
    {
     "name": "stderr",
     "output_type": "stream",
     "text": [
      " 18%|█▊        | 1845/10000 [00:02<00:12, 676.02it/s]\n",
      "100%|██████████| 1/1 [00:00<00:00,  6.43it/s]\n",
      "  1%|          | 66/10000 [00:00<00:15, 650.75it/s]"
     ]
    },
    {
     "name": "stdout",
     "output_type": "stream",
     "text": [
      "Concordance Index: 0.620941038907524\n",
      "Brier Score: 0.2036507194684802\n",
      "Cumulative_dynamic AUC  0.6288558992463418\n",
      "{'distribution': 'Weibull', 'k': 3, 'layers': [100, 100], 'learning_rate': 0.0001}\n"
     ]
    },
    {
     "name": "stderr",
     "output_type": "stream",
     "text": [
      " 18%|█▊        | 1845/10000 [00:02<00:12, 676.90it/s]\n",
      "100%|██████████| 1/1 [00:00<00:00,  6.33it/s]\n",
      "  1%|          | 64/10000 [00:00<00:15, 639.46it/s]"
     ]
    },
    {
     "name": "stdout",
     "output_type": "stream",
     "text": [
      "Concordance Index: 0.7134676097735823\n",
      "Brier Score: 0.181088136045393\n",
      "Cumulative_dynamic AUC  0.7446297372894702\n",
      "{'distribution': 'Weibull', 'k': 3, 'layers': [100, 100], 'learning_rate': 0.001}\n"
     ]
    },
    {
     "name": "stderr",
     "output_type": "stream",
     "text": [
      " 18%|█▊        | 1845/10000 [00:03<00:15, 530.43it/s]\n",
      "100%|██████████| 1/1 [00:00<00:00,  7.35it/s]\n",
      "  1%|          | 66/10000 [00:00<00:15, 653.42it/s]"
     ]
    },
    {
     "name": "stdout",
     "output_type": "stream",
     "text": [
      "Concordance Index: 0.47659870040858504\n",
      "Brier Score: 0.21757234461873573\n",
      "Cumulative_dynamic AUC  0.4538623560114727\n",
      "{'distribution': 'Weibull', 'k': 4, 'layers': [], 'learning_rate': 0.0001}\n"
     ]
    },
    {
     "name": "stderr",
     "output_type": "stream",
     "text": [
      " 18%|█▊        | 1845/10000 [00:03<00:15, 522.57it/s]\n",
      "100%|██████████| 1/1 [00:00<00:00,  7.17it/s]\n",
      "  1%|          | 64/10000 [00:00<00:15, 637.43it/s]"
     ]
    },
    {
     "name": "stdout",
     "output_type": "stream",
     "text": [
      "Concordance Index: 0.6031573793902991\n",
      "Brier Score: 0.20091932551942968\n",
      "Cumulative_dynamic AUC  0.611529985311081\n",
      "{'distribution': 'Weibull', 'k': 4, 'layers': [], 'learning_rate': 0.001}\n"
     ]
    },
    {
     "name": "stderr",
     "output_type": "stream",
     "text": [
      " 18%|█▊        | 1845/10000 [00:02<00:13, 622.90it/s]\n",
      "100%|██████████| 1/1 [00:00<00:00,  5.22it/s]\n",
      "  1%|          | 67/10000 [00:00<00:14, 668.95it/s]"
     ]
    },
    {
     "name": "stdout",
     "output_type": "stream",
     "text": [
      "Concordance Index: 0.6150765213526143\n",
      "Brier Score: 0.20079626063857792\n",
      "Cumulative_dynamic AUC  0.6266080206140123\n",
      "{'distribution': 'Weibull', 'k': 4, 'layers': [100], 'learning_rate': 0.0001}\n"
     ]
    },
    {
     "name": "stderr",
     "output_type": "stream",
     "text": [
      " 18%|█▊        | 1845/10000 [00:02<00:12, 678.73it/s]\n",
      "100%|██████████| 1/1 [00:00<00:00,  6.28it/s]\n",
      "  1%|          | 67/10000 [00:00<00:14, 669.45it/s]"
     ]
    },
    {
     "name": "stdout",
     "output_type": "stream",
     "text": [
      "Concordance Index: 0.7042037614520913\n",
      "Brier Score: 0.18520804374817076\n",
      "Cumulative_dynamic AUC  0.7334330816600197\n",
      "{'distribution': 'Weibull', 'k': 4, 'layers': [100], 'learning_rate': 0.001}\n"
     ]
    },
    {
     "name": "stderr",
     "output_type": "stream",
     "text": [
      " 18%|█▊        | 1845/10000 [00:02<00:12, 628.36it/s]\n",
      "100%|██████████| 1/1 [00:00<00:00,  5.86it/s]\n",
      "  1%|          | 67/10000 [00:00<00:14, 666.89it/s]"
     ]
    },
    {
     "name": "stdout",
     "output_type": "stream",
     "text": [
      "Concordance Index: 0.6466840182073358\n",
      "Brier Score: 0.20301336888640495\n",
      "Cumulative_dynamic AUC  0.6591577721857974\n",
      "{'distribution': 'Weibull', 'k': 4, 'layers': [100, 100], 'learning_rate': 0.0001}\n"
     ]
    },
    {
     "name": "stderr",
     "output_type": "stream",
     "text": [
      " 18%|█▊        | 1845/10000 [00:02<00:12, 676.36it/s]\n",
      "100%|██████████| 1/1 [00:00<00:00,  5.67it/s]\n",
      "  1%|          | 67/10000 [00:00<00:14, 669.20it/s]"
     ]
    },
    {
     "name": "stdout",
     "output_type": "stream",
     "text": [
      "Concordance Index: 0.7079620752337589\n",
      "Brier Score: 0.18433734466778193\n",
      "Cumulative_dynamic AUC  0.738622393958475\n",
      "{'distribution': 'Weibull', 'k': 4, 'layers': [100, 100], 'learning_rate': 0.001}\n"
     ]
    },
    {
     "name": "stderr",
     "output_type": "stream",
     "text": [
      " 18%|█▊        | 1845/10000 [00:02<00:12, 630.85it/s]\n",
      "100%|██████████| 1/1 [00:00<00:00,  4.74it/s]\n",
      "  0%|          | 38/10000 [00:00<00:26, 376.41it/s]"
     ]
    },
    {
     "name": "stdout",
     "output_type": "stream",
     "text": [
      "Concordance Index: 0.528617409132099\n",
      "Brier Score: 0.20587386707056146\n",
      "Cumulative_dynamic AUC  0.5365072096396085\n",
      "{'distribution': 'Weibull', 'k': 6, 'layers': [], 'learning_rate': 0.0001}\n"
     ]
    },
    {
     "name": "stderr",
     "output_type": "stream",
     "text": [
      " 18%|█▊        | 1845/10000 [00:02<00:13, 624.17it/s]\n",
      "100%|██████████| 1/1 [00:00<00:00,  5.77it/s]\n",
      "  1%|          | 66/10000 [00:00<00:15, 658.18it/s]"
     ]
    },
    {
     "name": "stdout",
     "output_type": "stream",
     "text": [
      "Concordance Index: 0.6054747974071183\n",
      "Brier Score: 0.19937701740665517\n",
      "Cumulative_dynamic AUC  0.61779817030874\n",
      "{'distribution': 'Weibull', 'k': 6, 'layers': [], 'learning_rate': 0.001}\n"
     ]
    },
    {
     "name": "stderr",
     "output_type": "stream",
     "text": [
      " 18%|█▊        | 1845/10000 [00:02<00:12, 675.32it/s]\n",
      "100%|██████████| 1/1 [00:00<00:00,  5.19it/s]\n",
      "  1%|          | 67/10000 [00:00<00:14, 663.90it/s]"
     ]
    },
    {
     "name": "stdout",
     "output_type": "stream",
     "text": [
      "Concordance Index: 0.5443869274404641\n",
      "Brier Score: 0.2057537264300032\n",
      "Cumulative_dynamic AUC  0.5398483361385489\n",
      "{'distribution': 'Weibull', 'k': 6, 'layers': [100], 'learning_rate': 0.0001}\n"
     ]
    },
    {
     "name": "stderr",
     "output_type": "stream",
     "text": [
      " 18%|█▊        | 1845/10000 [00:02<00:12, 675.90it/s]\n",
      "100%|██████████| 1/1 [00:00<00:00,  4.64it/s]\n",
      "  1%|          | 65/10000 [00:00<00:15, 648.30it/s]"
     ]
    },
    {
     "name": "stdout",
     "output_type": "stream",
     "text": [
      "Concordance Index: 0.7085613962141747\n",
      "Brier Score: 0.18772750978036887\n",
      "Cumulative_dynamic AUC  0.7349156454958966\n",
      "{'distribution': 'Weibull', 'k': 6, 'layers': [100], 'learning_rate': 0.001}\n"
     ]
    },
    {
     "name": "stderr",
     "output_type": "stream",
     "text": [
      " 18%|█▊        | 1845/10000 [00:03<00:13, 589.89it/s]\n",
      "100%|██████████| 1/1 [00:00<00:00,  4.32it/s]\n",
      "  1%|          | 65/10000 [00:00<00:15, 646.28it/s]"
     ]
    },
    {
     "name": "stdout",
     "output_type": "stream",
     "text": [
      "Concordance Index: 0.6568985178048318\n",
      "Brier Score: 0.202961664621087\n",
      "Cumulative_dynamic AUC  0.6705386354241947\n",
      "{'distribution': 'Weibull', 'k': 6, 'layers': [100, 100], 'learning_rate': 0.0001}\n"
     ]
    },
    {
     "name": "stderr",
     "output_type": "stream",
     "text": [
      " 18%|█▊        | 1845/10000 [00:02<00:11, 680.03it/s]\n",
      "100%|██████████| 1/1 [00:00<00:00,  4.08it/s]"
     ]
    },
    {
     "name": "stdout",
     "output_type": "stream",
     "text": [
      "Concordance Index: 0.6995013567080287\n",
      "Brier Score: 0.18538782612760984\n",
      "Cumulative_dynamic AUC  0.7319456134570768\n",
      "{'distribution': 'Weibull', 'k': 6, 'layers': [100, 100], 'learning_rate': 0.001}\n"
     ]
    },
    {
     "name": "stderr",
     "output_type": "stream",
     "text": [
      "\n"
     ]
    }
   ],
   "source": [
    "for param in params:\n",
    "    model = DeepSurvivalMachines(k = param['k'],\n",
    "                                 distribution = param['distribution'],\n",
    "                                 layers = param[ 'layers'])\n",
    "    model.fit(x_train, t_train, e_train, learning_rate = param['learning_rate'])\n",
    "    out_risk = model.predict_risk(x_val, times)\n",
    "    out_survival = model.predict_survival(x_val, times)\n",
    "\n",
    "    cis = []\n",
    "    brs = []\n",
    "    for i, _ in enumerate(times):\n",
    "        cis.append(concordance_index_ipcw(et_train, et_val, out_risk[:, i], times[i])[0])\n",
    "\n",
    "    brs.append(brier_score(et_train, et_val, out_survival, times)[1])\n",
    "    print(\"Concordance Index:\", np.mean(cis))\n",
    "    print(\"Brier Score:\", np.mean(brs))\n",
    "    cdauc = []\n",
    "    for i, _ in enumerate(times):\n",
    "        cdauc.append(cumulative_dynamic_auc(et_train, et_val, out_risk[:, i], times[i])[0])\n",
    "    print(\"Cumulative_dynamic AUC \", np.mean(cdauc))\n",
    "    print(param)\n",
    "    #scores  = scores + [[grid, np.mean(cis), np.mean(brs), np.mean(cdauc)]]"
   ]
  },
  {
   "cell_type": "markdown",
   "metadata": {},
   "source": [
    "### Training  "
   ]
  },
  {
   "cell_type": "code",
   "execution_count": 13,
   "metadata": {},
   "outputs": [
    {
     "name": "stderr",
     "output_type": "stream",
     "text": [
      " 18%|█▊        | 1845/10000 [00:03<00:14, 573.04it/s]\n",
      "100%|██████████| 1/1 [00:00<00:00,  7.03it/s]\n"
     ]
    }
   ],
   "source": [
    "model = DeepSurvivalMachines(k = 3, distribution = 'Weibull', layers = [100])\n",
    "model.fit(x_train, t_train, e_train, learning_rate = float(1e-3))"
   ]
  },
  {
   "cell_type": "markdown",
   "metadata": {},
   "source": [
    "### Prediction "
   ]
  },
  {
   "cell_type": "code",
   "execution_count": 14,
   "metadata": {},
   "outputs": [],
   "source": [
    "out_risk = model.predict_risk(x_test, times)\n",
    "out_survival = model.predict_survival(x_test, times)"
   ]
  },
  {
   "cell_type": "markdown",
   "metadata": {},
   "source": [
    "### Evaluation"
   ]
  },
  {
   "cell_type": "code",
   "execution_count": 15,
   "metadata": {},
   "outputs": [
    {
     "name": "stdout",
     "output_type": "stream",
     "text": [
      "Concordance Index: 0.7023360857164943\n",
      "Brier Score: 0.17641956933412173\n",
      "Cumulative_dynamic AUC  0.7260571933183376\n"
     ]
    }
   ],
   "source": [
    "cis = []\n",
    "brs = []\n",
    "for i, _ in enumerate(times):\n",
    "    cis.append(concordance_index_ipcw(et_train, et_test, out_risk[:, i], times[i])[0])\n",
    "\n",
    "brs.append(brier_score(et_train, et_test, out_survival, times)[1])\n",
    "print(\"Concordance Index:\", np.mean(cis))\n",
    "print(\"Brier Score:\", np.mean(brs))\n",
    "cdauc = []\n",
    "for i, _ in enumerate(times):\n",
    "    cdauc.append(cumulative_dynamic_auc(et_train, et_test, out_risk[:, i], times[i])[0])\n",
    "print(\"Cumulative_dynamic AUC \", np.mean(cdauc))"
   ]
  },
  {
   "cell_type": "code",
   "execution_count": null,
   "metadata": {},
   "outputs": [],
   "source": []
  }
 ],
 "metadata": {
  "kernelspec": {
   "display_name": "Python 3",
   "language": "python",
   "name": "python3"
  },
  "language_info": {
   "codemirror_mode": {
    "name": "ipython",
    "version": 3
   },
   "file_extension": ".py",
   "mimetype": "text/x-python",
   "name": "python",
   "nbconvert_exporter": "python",
   "pygments_lexer": "ipython3",
   "version": "3.8.5"
  }
 },
 "nbformat": 4,
 "nbformat_minor": 4
}
