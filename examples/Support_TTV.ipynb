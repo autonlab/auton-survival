{
 "cells": [
  {
   "cell_type": "markdown",
   "metadata": {},
   "source": [
    "# Train/Test/Validation Split"
   ]
  },
  {
   "cell_type": "code",
   "execution_count": 11,
   "metadata": {},
   "outputs": [],
   "source": [
    "from dsm import datasets\n",
    "from dsm.dsm_api import DeepSurvivalMachines\n",
    "import numpy as np\n",
    "from sklearn.model_selection import ParameterGrid\n",
    "from sksurv.metrics import concordance_index_ipcw, brier_score,cumulative_dynamic_auc"
   ]
  },
  {
   "cell_type": "markdown",
   "metadata": {},
   "source": [
    "### Loading the Support Dataset "
   ]
  },
  {
   "cell_type": "code",
   "execution_count": 27,
   "metadata": {},
   "outputs": [],
   "source": [
    "x, t, e = datasets.load_dataset('SUPPORT')"
   ]
  },
  {
   "cell_type": "markdown",
   "metadata": {},
   "source": [
    "### Computing the required quantile of the data "
   ]
  },
  {
   "cell_type": "code",
   "execution_count": 28,
   "metadata": {},
   "outputs": [],
   "source": [
    "times = np.quantile(t[e == 1], [0.25, 0.5, 0.75]).tolist()"
   ]
  },
  {
   "cell_type": "markdown",
   "metadata": {},
   "source": [
    "### Defining the train, test and validation size"
   ]
  },
  {
   "cell_type": "code",
   "execution_count": 29,
   "metadata": {
    "scrolled": false
   },
   "outputs": [],
   "source": [
    "train_size = round(9105 * 0.70)\n",
    "val_size = round(9105 * 0.10)\n",
    "test_size = round(9105 * 0.20)"
   ]
  },
  {
   "cell_type": "markdown",
   "metadata": {},
   "source": [
    "### Splitting the data into train, test and validation sets"
   ]
  },
  {
   "cell_type": "code",
   "execution_count": 15,
   "metadata": {},
   "outputs": [],
   "source": [
    "x_train = x[: train_size]\n",
    "t_train = t[: train_size]\n",
    "e_train = e[: train_size]\n",
    "\n",
    "x_test = x[-test_size :]\n",
    "t_test = t[-test_size :]\n",
    "e_test = e[-test_size :]\n",
    "\n",
    "x_val = x[train_size : train_size + val_size]\n",
    "t_val = t[train_size : train_size + val_size]\n",
    "e_val = e[train_size : train_size + val_size]"
   ]
  },
  {
   "cell_type": "code",
   "execution_count": 16,
   "metadata": {},
   "outputs": [],
   "source": [
    "et_train = np.array([(e_train[i], t_train[i]) for i in range(len(e_train))],\n",
    "                 dtype = [('e', bool), ('t', int)])\n",
    "et_test = np.array([(e_test[i], t_test[i]) for i in range(len(e_test))],\n",
    "                 dtype = [('e', bool), ('t', int)])\n",
    "et_val = np.array([(e_val[i], t_val[i]) for i in range(len(e_val))],\n",
    "                 dtype = [('e', bool), ('t', int)])"
   ]
  },
  {
   "cell_type": "code",
   "execution_count": 17,
   "metadata": {},
   "outputs": [
    {
     "name": "stdout",
     "output_type": "stream",
     "text": [
      "(6374,) (1821,) (910,)\n"
     ]
    }
   ],
   "source": [
    "print(et_train.shape, et_test.shape, et_val.shape)"
   ]
  },
  {
   "cell_type": "markdown",
   "metadata": {},
   "source": [
    "### Defining the parameter grid"
   ]
  },
  {
   "cell_type": "code",
   "execution_count": 26,
   "metadata": {},
   "outputs": [],
   "source": [
    "param_grid = {'k' : [1, 2, 3, 4, 5, 6, 7, 8, 9, 10],\n",
    "              'distribution' : ['LogNormal', 'Weibull']}\n",
    "grids = ParameterGrid(param_grid)"
   ]
  },
  {
   "cell_type": "markdown",
   "metadata": {},
   "source": [
    "### Validation "
   ]
  },
  {
   "cell_type": "code",
   "execution_count": 19,
   "metadata": {
    "scrolled": true
   },
   "outputs": [
    {
     "name": "stderr",
     "output_type": "stream",
     "text": [
      "  0%|          | 0/10000 [00:00<?, ?it/s]/home/kishan/Documents/Projects/deepsurvival/deep_survival/lib/python3.8/site-packages/torch/autograd/__init__.py:130: UserWarning: CUDA initialization: Found no NVIDIA driver on your system. Please check that you have an NVIDIA GPU and installed a driver from http://www.nvidia.com/Download/index.aspx (Triggered internally at  /pytorch/c10/cuda/CUDAFunctions.cpp:100.)\n",
      "  Variable._execution_engine.run_backward(\n",
      " 12%|█▏        | 1240/10000 [00:02<00:18, 461.10it/s]\n",
      "100%|██████████| 1/1 [00:00<00:00,  3.54it/s]\n",
      "  1%|          | 59/10000 [00:00<00:16, 585.51it/s]"
     ]
    },
    {
     "name": "stdout",
     "output_type": "stream",
     "text": [
      "Concordance Index: 0.560607191724184\n",
      "Brier Score: 0.2021620748498746\n",
      "Cumulative_dynamic AUC  0.5750584452945019\n",
      "{'distribution': 'LogNormal', 'k': 1}\n"
     ]
    },
    {
     "name": "stderr",
     "output_type": "stream",
     "text": [
      " 12%|█▏        | 1240/10000 [00:02<00:14, 589.56it/s]\n",
      "100%|██████████| 1/1 [00:00<00:00,  4.49it/s]\n",
      "  1%|          | 59/10000 [00:00<00:16, 589.67it/s]"
     ]
    },
    {
     "name": "stdout",
     "output_type": "stream",
     "text": [
      "Concordance Index: 0.5821705308796168\n",
      "Brier Score: 0.2009241698319314\n",
      "Cumulative_dynamic AUC  0.5854638786373166\n",
      "{'distribution': 'LogNormal', 'k': 2}\n"
     ]
    },
    {
     "name": "stderr",
     "output_type": "stream",
     "text": [
      " 12%|█▏        | 1240/10000 [00:02<00:14, 617.82it/s]\n",
      "100%|██████████| 1/1 [00:00<00:00,  7.23it/s]\n",
      "  0%|          | 35/10000 [00:00<00:28, 348.73it/s]"
     ]
    },
    {
     "name": "stdout",
     "output_type": "stream",
     "text": [
      "Concordance Index: 0.6391032999998018\n",
      "Brier Score: 0.19475588885625786\n",
      "Cumulative_dynamic AUC  0.667565202099054\n",
      "{'distribution': 'LogNormal', 'k': 3}\n"
     ]
    },
    {
     "name": "stderr",
     "output_type": "stream",
     "text": [
      " 12%|█▏        | 1240/10000 [00:02<00:16, 525.22it/s]\n",
      "100%|██████████| 1/1 [00:00<00:00,  6.05it/s]\n",
      "  1%|          | 58/10000 [00:00<00:17, 578.54it/s]"
     ]
    },
    {
     "name": "stdout",
     "output_type": "stream",
     "text": [
      "Concordance Index: 0.5691713341823809\n",
      "Brier Score: 0.20206039508740525\n",
      "Cumulative_dynamic AUC  0.5812913957548488\n",
      "{'distribution': 'LogNormal', 'k': 4}\n"
     ]
    },
    {
     "name": "stderr",
     "output_type": "stream",
     "text": [
      " 12%|█▏        | 1240/10000 [00:02<00:16, 529.57it/s]\n",
      "100%|██████████| 1/1 [00:00<00:00,  5.47it/s]\n",
      "  1%|          | 61/10000 [00:00<00:16, 606.60it/s]"
     ]
    },
    {
     "name": "stdout",
     "output_type": "stream",
     "text": [
      "Concordance Index: 0.638391286210458\n",
      "Brier Score: 0.19552422017250817\n",
      "Cumulative_dynamic AUC  0.667041705838899\n",
      "{'distribution': 'LogNormal', 'k': 5}\n"
     ]
    },
    {
     "name": "stderr",
     "output_type": "stream",
     "text": [
      " 12%|█▏        | 1240/10000 [00:02<00:15, 577.03it/s]\n",
      "100%|██████████| 1/1 [00:00<00:00,  4.83it/s]\n",
      "  1%|          | 61/10000 [00:00<00:16, 603.20it/s]"
     ]
    },
    {
     "name": "stdout",
     "output_type": "stream",
     "text": [
      "Concordance Index: 0.6597539885696767\n",
      "Brier Score: 0.19655277378417849\n",
      "Cumulative_dynamic AUC  0.6821135013162273\n",
      "{'distribution': 'LogNormal', 'k': 6}\n"
     ]
    },
    {
     "name": "stderr",
     "output_type": "stream",
     "text": [
      " 12%|█▏        | 1240/10000 [00:02<00:14, 589.92it/s]\n",
      "100%|██████████| 1/1 [00:00<00:00,  4.57it/s]\n",
      "  1%|          | 57/10000 [00:00<00:17, 562.29it/s]"
     ]
    },
    {
     "name": "stdout",
     "output_type": "stream",
     "text": [
      "Concordance Index: 0.6076619002812838\n",
      "Brier Score: 0.20006168194128313\n",
      "Cumulative_dynamic AUC  0.6221518856844712\n",
      "{'distribution': 'LogNormal', 'k': 7}\n"
     ]
    },
    {
     "name": "stderr",
     "output_type": "stream",
     "text": [
      " 12%|█▏        | 1240/10000 [00:02<00:15, 572.40it/s]\n",
      "100%|██████████| 1/1 [00:00<00:00,  3.60it/s]\n",
      "  1%|          | 60/10000 [00:00<00:16, 594.98it/s]"
     ]
    },
    {
     "name": "stdout",
     "output_type": "stream",
     "text": [
      "Concordance Index: 0.6415817265114007\n",
      "Brier Score: 0.1962276338812652\n",
      "Cumulative_dynamic AUC  0.6752203150348444\n",
      "{'distribution': 'LogNormal', 'k': 8}\n"
     ]
    },
    {
     "name": "stderr",
     "output_type": "stream",
     "text": [
      " 12%|█▏        | 1240/10000 [00:02<00:15, 577.73it/s]\n",
      "100%|██████████| 1/1 [00:00<00:00,  3.51it/s]\n",
      "  1%|          | 58/10000 [00:00<00:17, 575.65it/s]"
     ]
    },
    {
     "name": "stdout",
     "output_type": "stream",
     "text": [
      "Concordance Index: 0.6437421174327902\n",
      "Brier Score: 0.19711185898098124\n",
      "Cumulative_dynamic AUC  0.6714473812081884\n",
      "{'distribution': 'LogNormal', 'k': 9}\n"
     ]
    },
    {
     "name": "stderr",
     "output_type": "stream",
     "text": [
      " 12%|█▏        | 1240/10000 [00:02<00:15, 580.48it/s]\n",
      "100%|██████████| 1/1 [00:00<00:00,  3.34it/s]\n",
      "  0%|          | 9/10000 [00:00<01:51, 89.49it/s]"
     ]
    },
    {
     "name": "stdout",
     "output_type": "stream",
     "text": [
      "Concordance Index: 0.6026501592204184\n",
      "Brier Score: 0.19977362494150183\n",
      "Cumulative_dynamic AUC  0.6252710590213463\n",
      "{'distribution': 'LogNormal', 'k': 10}\n"
     ]
    },
    {
     "name": "stderr",
     "output_type": "stream",
     "text": [
      " 18%|█▊        | 1845/10000 [00:02<00:13, 616.33it/s]\n",
      "100%|██████████| 1/1 [00:00<00:00,  8.79it/s]\n",
      "  1%|          | 67/10000 [00:00<00:14, 669.76it/s]"
     ]
    },
    {
     "name": "stdout",
     "output_type": "stream",
     "text": [
      "Concordance Index: 0.5930035504562823\n",
      "Brier Score: 0.20354793233124888\n",
      "Cumulative_dynamic AUC  0.5980019720469677\n",
      "{'distribution': 'Weibull', 'k': 1}\n"
     ]
    },
    {
     "name": "stderr",
     "output_type": "stream",
     "text": [
      " 18%|█▊        | 1845/10000 [00:02<00:12, 640.17it/s]\n",
      "100%|██████████| 1/1 [00:00<00:00,  9.14it/s]\n",
      "  1%|          | 67/10000 [00:00<00:14, 668.76it/s]"
     ]
    },
    {
     "name": "stdout",
     "output_type": "stream",
     "text": [
      "Concordance Index: 0.6344473936632284\n",
      "Brier Score: 0.1938714579798196\n",
      "Cumulative_dynamic AUC  0.6564552629449063\n",
      "{'distribution': 'Weibull', 'k': 2}\n"
     ]
    },
    {
     "name": "stderr",
     "output_type": "stream",
     "text": [
      " 18%|█▊        | 1845/10000 [00:02<00:12, 640.77it/s]\n",
      "100%|██████████| 1/1 [00:00<00:00,  8.14it/s]\n",
      "  1%|          | 68/10000 [00:00<00:14, 672.98it/s]"
     ]
    },
    {
     "name": "stdout",
     "output_type": "stream",
     "text": [
      "Concordance Index: 0.607695901992059\n",
      "Brier Score: 0.2020926742272414\n",
      "Cumulative_dynamic AUC  0.6084716762798367\n",
      "{'distribution': 'Weibull', 'k': 3}\n"
     ]
    },
    {
     "name": "stderr",
     "output_type": "stream",
     "text": [
      " 18%|█▊        | 1845/10000 [00:03<00:13, 611.24it/s]\n",
      "100%|██████████| 1/1 [00:00<00:00,  5.16it/s]\n",
      "  1%|          | 66/10000 [00:00<00:15, 656.33it/s]"
     ]
    },
    {
     "name": "stdout",
     "output_type": "stream",
     "text": [
      "Concordance Index: 0.6278288485536119\n",
      "Brier Score: 0.19723910014812573\n",
      "Cumulative_dynamic AUC  0.6465486995855049\n",
      "{'distribution': 'Weibull', 'k': 4}\n"
     ]
    },
    {
     "name": "stderr",
     "output_type": "stream",
     "text": [
      " 18%|█▊        | 1845/10000 [00:02<00:12, 639.00it/s]\n",
      "100%|██████████| 1/1 [00:00<00:00,  6.62it/s]\n",
      "  1%|          | 68/10000 [00:00<00:14, 675.63it/s]"
     ]
    },
    {
     "name": "stdout",
     "output_type": "stream",
     "text": [
      "Concordance Index: 0.623721870224501\n",
      "Brier Score: 0.1987119092353963\n",
      "Cumulative_dynamic AUC  0.6423785076577243\n",
      "{'distribution': 'Weibull', 'k': 5}\n"
     ]
    },
    {
     "name": "stderr",
     "output_type": "stream",
     "text": [
      " 18%|█▊        | 1845/10000 [00:02<00:12, 641.75it/s]\n",
      "100%|██████████| 1/1 [00:00<00:00,  5.96it/s]\n",
      "  1%|          | 67/10000 [00:00<00:14, 663.26it/s]"
     ]
    },
    {
     "name": "stdout",
     "output_type": "stream",
     "text": [
      "Concordance Index: 0.623719372487444\n",
      "Brier Score: 0.19890029152656974\n",
      "Cumulative_dynamic AUC  0.6307186810695534\n",
      "{'distribution': 'Weibull', 'k': 6}\n"
     ]
    },
    {
     "name": "stderr",
     "output_type": "stream",
     "text": [
      " 18%|█▊        | 1845/10000 [00:02<00:12, 647.39it/s]\n",
      "100%|██████████| 1/1 [00:00<00:00,  5.49it/s]\n",
      "  1%|          | 68/10000 [00:00<00:14, 678.26it/s]"
     ]
    },
    {
     "name": "stdout",
     "output_type": "stream",
     "text": [
      "Concordance Index: 0.5480812745613538\n",
      "Brier Score: 0.20493838163735953\n",
      "Cumulative_dynamic AUC  0.558182664119938\n",
      "{'distribution': 'Weibull', 'k': 7}\n"
     ]
    },
    {
     "name": "stderr",
     "output_type": "stream",
     "text": [
      " 18%|█▊        | 1845/10000 [00:02<00:12, 634.11it/s]\n",
      "100%|██████████| 1/1 [00:00<00:00,  5.00it/s]\n",
      "  1%|          | 67/10000 [00:00<00:14, 669.50it/s]"
     ]
    },
    {
     "name": "stdout",
     "output_type": "stream",
     "text": [
      "Concordance Index: 0.5534216773892559\n",
      "Brier Score: 0.20349522562214395\n",
      "Cumulative_dynamic AUC  0.5694979875996248\n",
      "{'distribution': 'Weibull', 'k': 8}\n"
     ]
    },
    {
     "name": "stderr",
     "output_type": "stream",
     "text": [
      " 18%|█▊        | 1845/10000 [00:03<00:13, 611.31it/s]\n",
      "100%|██████████| 1/1 [00:00<00:00,  4.60it/s]\n",
      "  1%|          | 67/10000 [00:00<00:14, 666.44it/s]"
     ]
    },
    {
     "name": "stdout",
     "output_type": "stream",
     "text": [
      "Concordance Index: 0.509918346008642\n",
      "Brier Score: 0.20704238283775456\n",
      "Cumulative_dynamic AUC  0.5136175482948849\n",
      "{'distribution': 'Weibull', 'k': 9}\n"
     ]
    },
    {
     "name": "stderr",
     "output_type": "stream",
     "text": [
      " 18%|█▊        | 1845/10000 [00:03<00:13, 601.67it/s]\n",
      "100%|██████████| 1/1 [00:00<00:00,  3.90it/s]"
     ]
    },
    {
     "name": "stdout",
     "output_type": "stream",
     "text": [
      "Concordance Index: 0.5457867524346355\n",
      "Brier Score: 0.20434785349912266\n",
      "Cumulative_dynamic AUC  0.5518614097391491\n",
      "{'distribution': 'Weibull', 'k': 10}\n"
     ]
    },
    {
     "name": "stderr",
     "output_type": "stream",
     "text": [
      "\n"
     ]
    }
   ],
   "source": [
    "for grid in grids:\n",
    "    model = DeepSurvivalMachines(k = grid['k'], distribution = grid['distribution'])\n",
    "    model.fit(x_train, t_train, e_train)\n",
    "    out_risk = model.predict_risk(x_val, times)\n",
    "    out_survival = model.predict_survival(x_val, times)\n",
    "\n",
    "    cis = []\n",
    "    brs = []\n",
    "    for i, _ in enumerate(times):\n",
    "        cis.append(concordance_index_ipcw(et_train, et_val, out_risk[:, i], times[i])[0])\n",
    "\n",
    "    brs.append(brier_score(et_train, et_val, out_survival, times)[1])\n",
    "    print(\"Concordance Index:\", np.mean(cis))\n",
    "    print(\"Brier Score:\", np.mean(brs))\n",
    "    cdauc = []\n",
    "    for i, _ in enumerate(times):\n",
    "        cdauc.append(cumulative_dynamic_auc(et_train, et_val, out_risk[:, i], times[i])[0])\n",
    "    print(\"Cumulative_dynamic AUC \", np.mean(cdauc))\n",
    "    print(grid)\n",
    "    #scores  = scores + [[grid, np.mean(cis), np.mean(brs), np.mean(cdauc)]]"
   ]
  },
  {
   "cell_type": "markdown",
   "metadata": {},
   "source": [
    "### Training  "
   ]
  },
  {
   "cell_type": "code",
   "execution_count": 23,
   "metadata": {},
   "outputs": [
    {
     "name": "stderr",
     "output_type": "stream",
     "text": [
      " 12%|█▏        | 1240/10000 [00:02<00:14, 586.27it/s]\n",
      "100%|██████████| 1/1 [00:00<00:00,  4.83it/s]\n"
     ]
    }
   ],
   "source": [
    "model = DeepSurvivalMachines(k = 6, distribution = 'LogNormal')\n",
    "model.fit(x_train, t_train, e_train)\n",
    "out_risk = model.predict_risk(x_test, times)\n",
    "out_survival = model.predict_survival(x_test, times)"
   ]
  },
  {
   "cell_type": "markdown",
   "metadata": {},
   "source": [
    "### Prediction "
   ]
  },
  {
   "cell_type": "code",
   "execution_count": 24,
   "metadata": {},
   "outputs": [],
   "source": [
    "out_risk = model.predict_risk(x_test, times)\n",
    "out_survival = model.predict_survival(x_test, times)"
   ]
  },
  {
   "cell_type": "markdown",
   "metadata": {},
   "source": [
    "### Evaluation"
   ]
  },
  {
   "cell_type": "code",
   "execution_count": 25,
   "metadata": {},
   "outputs": [
    {
     "name": "stdout",
     "output_type": "stream",
     "text": [
      "Concordance Index: 0.6576888784160551\n",
      "Brier Score: 0.18412562484999506\n",
      "Cumulative_dynamic AUC  0.684763312097342\n"
     ]
    }
   ],
   "source": [
    "cis = []\n",
    "brs = []\n",
    "for i, _ in enumerate(times):\n",
    "    cis.append(concordance_index_ipcw(et_train, et_test, out_risk[:, i], times[i])[0])\n",
    "\n",
    "brs.append(brier_score(et_train, et_test, out_survival, times)[1])\n",
    "print(\"Concordance Index:\", np.mean(cis))\n",
    "print(\"Brier Score:\", np.mean(brs))\n",
    "cdauc = []\n",
    "for i, _ in enumerate(times):\n",
    "    cdauc.append(cumulative_dynamic_auc(et_train, et_test, out_risk[:, i], times[i])[0])\n",
    "print(\"Cumulative_dynamic AUC \", np.mean(cdauc))"
   ]
  },
  {
   "cell_type": "code",
   "execution_count": null,
   "metadata": {},
   "outputs": [],
   "source": []
  }
 ],
 "metadata": {
  "kernelspec": {
   "display_name": "Python 3",
   "language": "python",
   "name": "python3"
  },
  "language_info": {
   "codemirror_mode": {
    "name": "ipython",
    "version": 3
   },
   "file_extension": ".py",
   "mimetype": "text/x-python",
   "name": "python",
   "nbconvert_exporter": "python",
   "pygments_lexer": "ipython3",
   "version": "3.8.5"
  }
 },
 "nbformat": 4,
 "nbformat_minor": 4
}
