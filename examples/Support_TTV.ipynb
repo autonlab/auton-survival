{
 "cells": [
  {
   "cell_type": "code",
   "execution_count": 219,
   "metadata": {},
   "outputs": [],
   "source": [
    "from dsm import datasets\n",
    "from dsm.dsm_api import DeepSurvivalMachines\n",
    "import numpy as np\n",
    "from sklearn.model_selection import ParameterGrid\n",
    "from sksurv.metrics import concordance_index_ipcw, brier_score,cumulative_dynamic_auc"
   ]
  },
  {
   "cell_type": "code",
   "execution_count": 220,
   "metadata": {},
   "outputs": [],
   "source": [
    "x, t, e = datasets.load_dataset('SUPPORT')"
   ]
  },
  {
   "cell_type": "code",
   "execution_count": 221,
   "metadata": {},
   "outputs": [],
   "source": [
    "times = np.quantile(t[e == 1], [0.25, 0.5, 0.75]).tolist()"
   ]
  },
  {
   "cell_type": "code",
   "execution_count": 222,
   "metadata": {},
   "outputs": [
    {
     "data": {
      "text/plain": [
       "[14.0, 58.0, 252.0]"
      ]
     },
     "execution_count": 222,
     "metadata": {},
     "output_type": "execute_result"
    }
   ],
   "source": [
    "times"
   ]
  },
  {
   "cell_type": "code",
   "execution_count": 223,
   "metadata": {
    "scrolled": false
   },
   "outputs": [
    {
     "name": "stdout",
     "output_type": "stream",
     "text": [
      "(9105, 44)\n",
      "(9105,)\n",
      "(9105,)\n"
     ]
    }
   ],
   "source": [
    "print(x.shape)\n",
    "print(t.shape)\n",
    "print(e.shape)"
   ]
  },
  {
   "cell_type": "code",
   "execution_count": 227,
   "metadata": {},
   "outputs": [],
   "source": [
    "train_size = round(9105*0.70)\n",
    "val_size = round(9105*0.10)\n",
    "test_size = round(9105*0.20)\n",
    "\n",
    "x_train, t_train, e_train = x[: train_size], t[: train_size], e[:train_size]\n",
    "x_test,  t_test,  e_test = x[-test_size:], t[-test_size:], e[-test_size:]\n",
    "x_val,  t_val,  e_val = x[train_size:train_size+val_size], t[train_size:train_size+val_size], e[train_size:train_size+val_size]"
   ]
  },
  {
   "cell_type": "code",
   "execution_count": 228,
   "metadata": {},
   "outputs": [
    {
     "data": {
      "text/plain": [
       "(1821, 44)"
      ]
     },
     "execution_count": 228,
     "metadata": {},
     "output_type": "execute_result"
    }
   ],
   "source": [
    "x_test.shape"
   ]
  },
  {
   "cell_type": "code",
   "execution_count": 229,
   "metadata": {},
   "outputs": [
    {
     "data": {
      "text/plain": [
       "(910, 44)"
      ]
     },
     "execution_count": 229,
     "metadata": {},
     "output_type": "execute_result"
    }
   ],
   "source": [
    "x_val.shape"
   ]
  },
  {
   "cell_type": "code",
   "execution_count": 230,
   "metadata": {},
   "outputs": [
    {
     "data": {
      "text/plain": [
       "(6374, 44)"
      ]
     },
     "execution_count": 230,
     "metadata": {},
     "output_type": "execute_result"
    }
   ],
   "source": [
    "x_train.shape"
   ]
  },
  {
   "cell_type": "code",
   "execution_count": 231,
   "metadata": {
    "scrolled": true
   },
   "outputs": [
    {
     "name": "stdout",
     "output_type": "stream",
     "text": [
      "(6374, 44) (6374,) (6374,)\n",
      "(910, 44) (910,) (910,)\n",
      "(1821, 44) (1821,) (1821,)\n"
     ]
    }
   ],
   "source": [
    "print(x_train.shape, t_train.shape, e_train.shape)\n",
    "print(x_val.shape, t_val.shape, e_val.shape)\n",
    "print(x_test.shape, t_test.shape, e_test.shape)"
   ]
  },
  {
   "cell_type": "code",
   "execution_count": 232,
   "metadata": {},
   "outputs": [],
   "source": [
    "et_train = np.array([(e_train[i], t_train[i]) for i in range(len(e_train))],\n",
    "                 dtype=[('e', bool), ('t', int)])\n",
    "et_test = np.array([(e_test[i], t_test[i]) for i in range(len(e_test))],\n",
    "                 dtype=[('e', bool), ('t', int)])\n",
    "et_val = np.array([(e_val[i], t_val[i]) for i in range(len(e_val))],\n",
    "                 dtype=[('e', bool), ('t', int)])"
   ]
  },
  {
   "cell_type": "code",
   "execution_count": 233,
   "metadata": {},
   "outputs": [
    {
     "name": "stdout",
     "output_type": "stream",
     "text": [
      "(6374,) (1821,) (910,)\n"
     ]
    }
   ],
   "source": [
    "print(et_train.shape, et_test.shape, et_val.shape)"
   ]
  },
  {
   "cell_type": "code",
   "execution_count": 234,
   "metadata": {},
   "outputs": [],
   "source": [
    "param_grid = {'k': [1, 2, 3, 4, 5, 6, 7, 8, 9, 10],\n",
    "              'distribution': ['LogNormal', 'Weibull']}"
   ]
  },
  {
   "cell_type": "code",
   "execution_count": 235,
   "metadata": {},
   "outputs": [],
   "source": [
    "grids = ParameterGrid(param_grid)"
   ]
  },
  {
   "cell_type": "code",
   "execution_count": 205,
   "metadata": {},
   "outputs": [
    {
     "name": "stderr",
     "output_type": "stream",
     "text": [
      " 12%|█▏        | 1240/10000 [00:02<00:16, 531.95it/s]\n",
      "100%|██████████| 1/1 [00:00<00:00,  5.54it/s]\n",
      "  0%|          | 44/10000 [00:00<00:22, 437.38it/s]"
     ]
    },
    {
     "name": "stdout",
     "output_type": "stream",
     "text": [
      "Concordance Index: 0.5092904206321293\n",
      "Brier Score: 0.2094134782813962\n",
      "Cumulative_dynamic AUC  0.5086922832567786\n",
      "{'distribution': 'LogNormal', 'k': 1}\n"
     ]
    },
    {
     "name": "stderr",
     "output_type": "stream",
     "text": [
      " 12%|█▏        | 1240/10000 [00:02<00:16, 524.13it/s]\n",
      "100%|██████████| 1/1 [00:00<00:00,  7.85it/s]\n",
      "  1%|          | 59/10000 [00:00<00:16, 589.59it/s]"
     ]
    },
    {
     "name": "stdout",
     "output_type": "stream",
     "text": [
      "Concordance Index: 0.6225696126219331\n",
      "Brier Score: 0.19564178498171694\n",
      "Cumulative_dynamic AUC  0.6463304993181905\n",
      "{'distribution': 'LogNormal', 'k': 2}\n"
     ]
    },
    {
     "name": "stderr",
     "output_type": "stream",
     "text": [
      " 12%|█▏        | 1240/10000 [00:02<00:17, 511.63it/s]\n",
      "100%|██████████| 1/1 [00:00<00:00,  7.04it/s]\n",
      "  0%|          | 39/10000 [00:00<00:25, 386.10it/s]"
     ]
    },
    {
     "name": "stdout",
     "output_type": "stream",
     "text": [
      "Concordance Index: 0.6364015485450529\n",
      "Brier Score: 0.19561785074208204\n",
      "Cumulative_dynamic AUC  0.6648284665873677\n",
      "{'distribution': 'LogNormal', 'k': 3}\n"
     ]
    },
    {
     "name": "stderr",
     "output_type": "stream",
     "text": [
      " 12%|█▏        | 1240/10000 [00:02<00:16, 518.60it/s]\n",
      "100%|██████████| 1/1 [00:00<00:00,  3.31it/s]\n",
      "  1%|          | 60/10000 [00:00<00:16, 592.42it/s]"
     ]
    },
    {
     "name": "stdout",
     "output_type": "stream",
     "text": [
      "Concordance Index: 0.5991297199199518\n",
      "Brier Score: 0.19911243021089486\n",
      "Cumulative_dynamic AUC  0.6168034589116687\n",
      "{'distribution': 'LogNormal', 'k': 4}\n"
     ]
    },
    {
     "name": "stderr",
     "output_type": "stream",
     "text": [
      " 12%|█▏        | 1240/10000 [00:02<00:15, 574.78it/s]\n",
      "100%|██████████| 1/1 [00:00<00:00,  5.39it/s]\n",
      "  1%|          | 60/10000 [00:00<00:16, 590.91it/s]"
     ]
    },
    {
     "name": "stdout",
     "output_type": "stream",
     "text": [
      "Concordance Index: 0.5878718504990289\n",
      "Brier Score: 0.2002449075616305\n",
      "Cumulative_dynamic AUC  0.6084366081959983\n",
      "{'distribution': 'LogNormal', 'k': 5}\n"
     ]
    },
    {
     "name": "stderr",
     "output_type": "stream",
     "text": [
      " 12%|█▏        | 1240/10000 [00:02<00:14, 589.23it/s]\n",
      "100%|██████████| 1/1 [00:00<00:00,  4.88it/s]\n",
      "  1%|          | 60/10000 [00:00<00:16, 596.45it/s]"
     ]
    },
    {
     "name": "stdout",
     "output_type": "stream",
     "text": [
      "Concordance Index: 0.6368460429833823\n",
      "Brier Score: 0.1979542865459052\n",
      "Cumulative_dynamic AUC  0.6519796443481246\n",
      "{'distribution': 'LogNormal', 'k': 6}\n"
     ]
    },
    {
     "name": "stderr",
     "output_type": "stream",
     "text": [
      " 12%|█▏        | 1240/10000 [00:02<00:15, 574.59it/s]\n",
      "100%|██████████| 1/1 [00:00<00:00,  4.32it/s]\n",
      "  1%|          | 60/10000 [00:00<00:16, 593.98it/s]"
     ]
    },
    {
     "name": "stdout",
     "output_type": "stream",
     "text": [
      "Concordance Index: 0.6511055559469626\n",
      "Brier Score: 0.1955849172557882\n",
      "Cumulative_dynamic AUC  0.6810514142065088\n",
      "{'distribution': 'LogNormal', 'k': 7}\n"
     ]
    },
    {
     "name": "stderr",
     "output_type": "stream",
     "text": [
      " 12%|█▏        | 1240/10000 [00:02<00:15, 580.79it/s]\n",
      "100%|██████████| 1/1 [00:00<00:00,  3.64it/s]\n",
      "  0%|          | 29/10000 [00:00<00:34, 285.95it/s]"
     ]
    },
    {
     "name": "stdout",
     "output_type": "stream",
     "text": [
      "Concordance Index: 0.6331446267971144\n",
      "Brier Score: 0.19876817075613976\n",
      "Cumulative_dynamic AUC  0.6548590739887442\n",
      "{'distribution': 'LogNormal', 'k': 8}\n"
     ]
    },
    {
     "name": "stderr",
     "output_type": "stream",
     "text": [
      " 12%|█▏        | 1240/10000 [00:02<00:17, 490.66it/s]\n",
      "100%|██████████| 1/1 [00:00<00:00,  3.58it/s]\n",
      "  1%|          | 59/10000 [00:00<00:17, 582.17it/s]"
     ]
    },
    {
     "name": "stdout",
     "output_type": "stream",
     "text": [
      "Concordance Index: 0.6475819691793351\n",
      "Brier Score: 0.19713614022219517\n",
      "Cumulative_dynamic AUC  0.6700905021936281\n",
      "{'distribution': 'LogNormal', 'k': 9}\n"
     ]
    },
    {
     "name": "stderr",
     "output_type": "stream",
     "text": [
      " 12%|█▏        | 1240/10000 [00:02<00:16, 538.26it/s]\n",
      "100%|██████████| 1/1 [00:00<00:00,  3.14it/s]\n",
      "  1%|          | 66/10000 [00:00<00:15, 657.18it/s]"
     ]
    },
    {
     "name": "stdout",
     "output_type": "stream",
     "text": [
      "Concordance Index: 0.6766311332976391\n",
      "Brier Score: 0.1949544626973324\n",
      "Cumulative_dynamic AUC  0.7053828500566288\n",
      "{'distribution': 'LogNormal', 'k': 10}\n"
     ]
    },
    {
     "name": "stderr",
     "output_type": "stream",
     "text": [
      " 18%|█▊        | 1845/10000 [00:02<00:12, 648.37it/s]\n",
      "100%|██████████| 1/1 [00:00<00:00, 10.31it/s]\n",
      "  0%|          | 48/10000 [00:00<00:21, 469.70it/s]"
     ]
    },
    {
     "name": "stdout",
     "output_type": "stream",
     "text": [
      "Concordance Index: 0.5217620646680267\n",
      "Brier Score: 0.22052591107210942\n",
      "Cumulative_dynamic AUC  0.5113355137174557\n",
      "{'distribution': 'Weibull', 'k': 1}\n"
     ]
    },
    {
     "name": "stderr",
     "output_type": "stream",
     "text": [
      " 18%|█▊        | 1845/10000 [00:02<00:13, 620.63it/s]\n",
      "100%|██████████| 1/1 [00:00<00:00,  8.43it/s]\n",
      "  1%|          | 67/10000 [00:00<00:14, 665.06it/s]"
     ]
    },
    {
     "name": "stdout",
     "output_type": "stream",
     "text": [
      "Concordance Index: 0.5655511571626577\n",
      "Brier Score: 0.2029583594877187\n",
      "Cumulative_dynamic AUC  0.5752601364418766\n",
      "{'distribution': 'Weibull', 'k': 2}\n"
     ]
    },
    {
     "name": "stderr",
     "output_type": "stream",
     "text": [
      " 18%|█▊        | 1845/10000 [00:03<00:13, 597.92it/s]\n",
      "100%|██████████| 1/1 [00:00<00:00,  7.94it/s]\n",
      "  1%|          | 64/10000 [00:00<00:15, 634.77it/s]"
     ]
    },
    {
     "name": "stdout",
     "output_type": "stream",
     "text": [
      "Concordance Index: 0.6011102388064652\n",
      "Brier Score: 0.20006664777293817\n",
      "Cumulative_dynamic AUC  0.6150050341748386\n",
      "{'distribution': 'Weibull', 'k': 3}\n"
     ]
    },
    {
     "name": "stderr",
     "output_type": "stream",
     "text": [
      " 18%|█▊        | 1845/10000 [00:03<00:14, 546.07it/s]\n",
      "100%|██████████| 1/1 [00:00<00:00,  5.64it/s]\n",
      "  1%|          | 52/10000 [00:00<00:19, 515.34it/s]"
     ]
    },
    {
     "name": "stdout",
     "output_type": "stream",
     "text": [
      "Concordance Index: 0.5334196125687835\n",
      "Brier Score: 0.2058152474159565\n",
      "Cumulative_dynamic AUC  0.5452291852340513\n",
      "{'distribution': 'Weibull', 'k': 4}\n"
     ]
    },
    {
     "name": "stderr",
     "output_type": "stream",
     "text": [
      " 18%|█▊        | 1845/10000 [00:03<00:14, 553.79it/s]\n",
      "100%|██████████| 1/1 [00:00<00:00,  6.71it/s]\n",
      "  0%|          | 28/10000 [00:00<00:36, 275.12it/s]"
     ]
    },
    {
     "name": "stdout",
     "output_type": "stream",
     "text": [
      "Concordance Index: 0.5545690402614445\n",
      "Brier Score: 0.20617123598941967\n",
      "Cumulative_dynamic AUC  0.5476095391281718\n",
      "{'distribution': 'Weibull', 'k': 5}\n"
     ]
    },
    {
     "name": "stderr",
     "output_type": "stream",
     "text": [
      " 18%|█▊        | 1845/10000 [00:03<00:14, 551.13it/s]\n",
      "100%|██████████| 1/1 [00:00<00:00,  6.12it/s]\n",
      "  1%|          | 67/10000 [00:00<00:14, 663.42it/s]"
     ]
    },
    {
     "name": "stdout",
     "output_type": "stream",
     "text": [
      "Concordance Index: 0.6476051251161218\n",
      "Brier Score: 0.19588918479440143\n",
      "Cumulative_dynamic AUC  0.6569182166503739\n",
      "{'distribution': 'Weibull', 'k': 6}\n"
     ]
    },
    {
     "name": "stderr",
     "output_type": "stream",
     "text": [
      " 18%|█▊        | 1845/10000 [00:02<00:12, 631.03it/s]\n",
      "100%|██████████| 1/1 [00:00<00:00,  5.23it/s]\n",
      "  1%|          | 67/10000 [00:00<00:14, 667.21it/s]"
     ]
    },
    {
     "name": "stdout",
     "output_type": "stream",
     "text": [
      "Concordance Index: 0.5858539801383983\n",
      "Brier Score: 0.2034606185365795\n",
      "Cumulative_dynamic AUC  0.5913725838715068\n",
      "{'distribution': 'Weibull', 'k': 7}\n"
     ]
    },
    {
     "name": "stderr",
     "output_type": "stream",
     "text": [
      " 18%|█▊        | 1845/10000 [00:02<00:11, 688.18it/s]\n",
      "100%|██████████| 1/1 [00:00<00:00,  5.08it/s]\n",
      "  0%|          | 48/10000 [00:00<00:20, 478.21it/s]"
     ]
    },
    {
     "name": "stdout",
     "output_type": "stream",
     "text": [
      "Concordance Index: 0.5361255567804992\n",
      "Brier Score: 0.20410873790652573\n",
      "Cumulative_dynamic AUC  0.5468374972837957\n",
      "{'distribution': 'Weibull', 'k': 8}\n"
     ]
    },
    {
     "name": "stderr",
     "output_type": "stream",
     "text": [
      " 18%|█▊        | 1845/10000 [00:03<00:13, 596.08it/s]\n",
      "100%|██████████| 1/1 [00:00<00:00,  3.78it/s]\n",
      "  1%|          | 65/10000 [00:00<00:15, 646.81it/s]"
     ]
    },
    {
     "name": "stdout",
     "output_type": "stream",
     "text": [
      "Concordance Index: 0.6072673284548974\n",
      "Brier Score: 0.20075580259939282\n",
      "Cumulative_dynamic AUC  0.6229017351810217\n",
      "{'distribution': 'Weibull', 'k': 9}\n"
     ]
    },
    {
     "name": "stderr",
     "output_type": "stream",
     "text": [
      " 18%|█▊        | 1845/10000 [00:03<00:13, 603.63it/s]\n",
      "100%|██████████| 1/1 [00:00<00:00,  4.37it/s]"
     ]
    },
    {
     "name": "stdout",
     "output_type": "stream",
     "text": [
      "Concordance Index: 0.6125137904891208\n",
      "Brier Score: 0.1990688415320855\n",
      "Cumulative_dynamic AUC  0.6332807149415878\n",
      "{'distribution': 'Weibull', 'k': 10}\n"
     ]
    },
    {
     "name": "stderr",
     "output_type": "stream",
     "text": [
      "\n"
     ]
    }
   ],
   "source": [
    "#scores = []\n",
    "for grid in grids:\n",
    "    model = DeepSurvivalMachines(k = grid['k'], distribution = grid['distribution'])\n",
    "    model.fit(x_train, t_train, e_train)\n",
    "    out_risk = model.predict_risk(x_val, times)\n",
    "    out_survival = model.predict_survival(x_val, times)\n",
    "    \n",
    "    cis = []\n",
    "    brs = []\n",
    "    for i in range(len(times)):\n",
    "        cis.append(concordance_index_ipcw(et_train, et_val, out_risk[:, i], times[i])[0])\n",
    "    \n",
    "    brs.append(brier_score(et_train, et_val, out_survival, times )[1])\n",
    "    print (\"Concordance Index:\", np.mean(cis))\n",
    "    print (\"Brier Score:\", np.mean(brs))\n",
    "    cdauc=[]\n",
    "    for i in range(len(times)):\n",
    "        cdauc.append(cumulative_dynamic_auc(et_train, et_val, out_risk[:,i], times[i])[0])\n",
    "    print (\"Cumulative_dynamic AUC \", np.mean(cdauc))  \n",
    "    print(grid)\n",
    "    #scores  = scores + [[grid, np.mean(cis), np.mean(brs), np.mean(cdauc)]]\n",
    "    "
   ]
  },
  {
   "cell_type": "code",
   "execution_count": 236,
   "metadata": {},
   "outputs": [
    {
     "name": "stderr",
     "output_type": "stream",
     "text": [
      " 12%|█▏        | 1240/10000 [00:02<00:15, 568.10it/s]\n",
      "100%|██████████| 1/1 [00:00<00:00,  3.37it/s]"
     ]
    },
    {
     "name": "stdout",
     "output_type": "stream",
     "text": [
      "Concordance Index: 0.6581903218379163\n",
      "Brier Score: 0.18598571651278992\n",
      "Cumulative_dynamic AUC  0.6829802892087405\n"
     ]
    },
    {
     "name": "stderr",
     "output_type": "stream",
     "text": [
      "\n"
     ]
    }
   ],
   "source": [
    "model = DeepSurvivalMachines(k = 10, distribution = 'LogNormal')\n",
    "model.fit(x_train, t_train, e_train)\n",
    "out_risk = model.predict_risk(x_test, times)\n",
    "out_survival = model.predict_survival(x_test, times)\n",
    "    \n",
    "cis = []\n",
    "brs = []\n",
    "for i in range(len(times)):\n",
    "    cis.append(concordance_index_ipcw(et_train, et_test, out_risk[:,i], times[i])[0])\n",
    "\n",
    "brs.append(brier_score(et_train, et_test, out_survival, times)[1])\n",
    "print (\"Concordance Index:\", np.mean(cis))\n",
    "print (\"Brier Score:\", np.mean(brs))\n",
    "cdauc=[]\n",
    "for i in range(len(times)):\n",
    "    cdauc.append(cumulative_dynamic_auc(et_train, et_test, out_risk[:,i], times[i])[0])\n",
    "print (\"Cumulative_dynamic AUC \", np.mean(cdauc))      "
   ]
  },
  {
   "cell_type": "code",
   "execution_count": null,
   "metadata": {},
   "outputs": [],
   "source": []
  }
 ],
 "metadata": {
  "kernelspec": {
   "display_name": "Python 3",
   "language": "python",
   "name": "python3"
  },
  "language_info": {
   "codemirror_mode": {
    "name": "ipython",
    "version": 3
   },
   "file_extension": ".py",
   "mimetype": "text/x-python",
   "name": "python",
   "nbconvert_exporter": "python",
   "pygments_lexer": "ipython3",
   "version": "3.8.5"
  }
 },
 "nbformat": 4,
 "nbformat_minor": 4
}
