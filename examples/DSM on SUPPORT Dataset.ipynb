{
 "cells": [
  {
   "cell_type": "markdown",
   "metadata": {},
   "source": [
    "# DSM on SUPPORT Dataset"
   ]
  },
  {
   "cell_type": "markdown",
   "metadata": {},
   "source": [
    "The SUPPORT dataset comes from the Vanderbilt University study\n",
    "to estimate survival for seriously ill hospitalized adults.\n",
    "(Refer to http://biostat.mc.vanderbilt.edu/wiki/Main/SupportDesc.\n",
    "for the original datasource.)\n",
    "\n",
    "In this notebook, we will apply Deep Survival Machines for survival prediction on the SUPPORT data."
   ]
  },
  {
   "cell_type": "markdown",
   "metadata": {},
   "source": [
    "### Load the SUPPORT Dataset\n",
    "\n",
    "The package includes helper functions to load the dataset.\n",
    "\n",
    "X represents an np.array of features (covariates),\n",
    "T is the event/censoring times and,\n",
    "E is the censoring indicator."
   ]
  },
  {
   "cell_type": "code",
   "execution_count": 3,
   "metadata": {},
   "outputs": [],
   "source": [
    "import sys\n",
    "\n",
    "sys.path.append('../')\n",
    "from auton_survival import datasets\n",
    "outcomes, features = datasets.load_support()"
   ]
  },
  {
   "cell_type": "code",
   "execution_count": 13,
   "metadata": {},
   "outputs": [],
   "source": [
    "from auton_survival.preprocessing import Preprocessor\n",
    "cat_feats = ['sex', 'dzgroup', 'dzclass', 'income', 'race', 'ca']\n",
    "num_feats = ['age', 'num.co', 'meanbp', 'wblc', 'hrt', 'resp', \n",
    "\t     'temp', 'pafi', 'alb', 'bili', 'crea', 'sod', 'ph', \n",
    "             'glucose', 'bun', 'urine', 'adlp', 'adls']\n",
    "\n",
    "features = Preprocessor().fit_transform(features, cat_feats=cat_feats, num_feats=num_feats)"
   ]
  },
  {
   "cell_type": "markdown",
   "metadata": {},
   "source": [
    "### Compute horizons at which we evaluate the performance of DSM\n",
    "\n",
    "Survival predictions are issued at certain time horizons. Here we will evaluate the performance\n",
    "of DSM to issue predictions at the 25th, 50th and 75th event time quantile as is standard practice in Survival Analysis."
   ]
  },
  {
   "cell_type": "code",
   "execution_count": 23,
   "metadata": {},
   "outputs": [],
   "source": [
    "import numpy as np\n",
    "horizons = [0.25, 0.5, 0.75]\n",
    "times = np.quantile(outcomes.time[outcomes.event==1], horizons).tolist()"
   ]
  },
  {
   "cell_type": "markdown",
   "metadata": {},
   "source": [
    "### Splitting the data into train, test and validation sets\n",
    "\n",
    "We will train DSM on 70% of the Data, use a Validation set of 10% for Model Selection and report performance on the remaining 20% held out test set."
   ]
  },
  {
   "cell_type": "code",
   "execution_count": 30,
   "metadata": {},
   "outputs": [],
   "source": [
    "x, t, e = features.values, outcomes.time.values, outcomes.event.values\n",
    "\n",
    "n = len(x)\n",
    "\n",
    "tr_size = int(n*0.70)\n",
    "vl_size = int(n*0.10)\n",
    "te_size = int(n*0.20)\n",
    "\n",
    "x_train, x_test, x_val = x[:tr_size], x[-te_size:], x[tr_size:tr_size+vl_size]\n",
    "t_train, t_test, t_val = t[:tr_size], t[-te_size:], t[tr_size:tr_size+vl_size]\n",
    "e_train, e_test, e_val = e[:tr_size], e[-te_size:], e[tr_size:tr_size+vl_size]"
   ]
  },
  {
   "cell_type": "markdown",
   "metadata": {},
   "source": [
    "### Setting the parameter grid\n",
    "\n",
    "Lets set up the parameter grid to tune hyper-parameters. We will tune the number of underlying survival distributions, \n",
    "($K$), the distribution choices (Log-Normal or Weibull), the learning rate for the Adam optimizer between $1\\times10^{-3}$ and $1\\times10^{-4}$ and the number of hidden layers between $0, 1$ and $2$."
   ]
  },
  {
   "cell_type": "code",
   "execution_count": 31,
   "metadata": {},
   "outputs": [],
   "source": [
    "from sklearn.model_selection import ParameterGrid"
   ]
  },
  {
   "cell_type": "code",
   "execution_count": 32,
   "metadata": {},
   "outputs": [],
   "source": [
    "param_grid = {'k' : [3, 4, 6],\n",
    "              'distribution' : ['LogNormal', 'Weibull'],\n",
    "              'learning_rate' : [ 1e-4, 1e-3],\n",
    "              'layers' : [ [], [100], [100, 100] ]\n",
    "             }\n",
    "params = ParameterGrid(param_grid)"
   ]
  },
  {
   "cell_type": "markdown",
   "metadata": {},
   "source": [
    "### Model Training and Selection"
   ]
  },
  {
   "cell_type": "code",
   "execution_count": 33,
   "metadata": {},
   "outputs": [],
   "source": [
    "from auton_survival.models.dsm import DeepSurvivalMachines\n"
   ]
  },
  {
   "cell_type": "code",
   "execution_count": 34,
   "metadata": {
    "scrolled": true
   },
   "outputs": [
    {
     "name": "stderr",
     "output_type": "stream",
     "text": [
      " 12%|█▏        | 1242/10000 [00:02<00:15, 576.61it/s]\n",
      "100%|██████████| 100/100 [00:13<00:00,  7.26it/s]\n",
      " 12%|█▏        | 1242/10000 [00:02<00:14, 589.45it/s]\n",
      " 88%|████████▊ | 88/100 [00:11<00:01,  7.37it/s]\n",
      " 12%|█▏        | 1242/10000 [00:05<00:35, 247.08it/s]\n",
      "100%|██████████| 100/100 [00:19<00:00,  5.25it/s]\n",
      " 12%|█▏        | 1242/10000 [00:02<00:17, 501.23it/s]\n",
      " 13%|█▎        | 13/100 [00:02<00:14,  5.81it/s]\n",
      " 12%|█▏        | 1242/10000 [00:02<00:15, 574.96it/s]\n",
      " 43%|████▎     | 43/100 [00:07<00:09,  5.83it/s]\n",
      " 12%|█▏        | 1242/10000 [00:02<00:14, 587.50it/s]\n",
      "  9%|▉         | 9/100 [00:03<00:32,  2.80it/s]\n",
      " 12%|█▏        | 1242/10000 [00:03<00:21, 407.46it/s]\n",
      "100%|██████████| 100/100 [00:20<00:00,  4.79it/s]\n",
      " 12%|█▏        | 1242/10000 [00:02<00:19, 453.10it/s]\n",
      " 90%|█████████ | 90/100 [00:14<00:01,  6.13it/s]\n",
      " 12%|█▏        | 1242/10000 [00:01<00:13, 629.44it/s]\n",
      " 96%|█████████▌| 96/100 [00:18<00:00,  5.22it/s]\n",
      " 12%|█▏        | 1242/10000 [00:02<00:15, 553.09it/s]\n",
      " 14%|█▍        | 14/100 [00:02<00:17,  5.03it/s]\n",
      " 12%|█▏        | 1242/10000 [00:02<00:14, 603.60it/s]\n",
      " 43%|████▎     | 43/100 [00:10<00:13,  4.19it/s]\n",
      " 12%|█▏        | 1242/10000 [00:02<00:20, 417.17it/s]\n",
      "  8%|▊         | 8/100 [00:03<00:36,  2.49it/s]\n",
      " 12%|█▏        | 1242/10000 [00:04<00:28, 304.82it/s]\n",
      "100%|██████████| 100/100 [00:27<00:00,  3.61it/s]\n",
      " 12%|█▏        | 1242/10000 [00:03<00:24, 351.58it/s]\n",
      " 88%|████████▊ | 88/100 [00:20<00:02,  4.26it/s]\n",
      " 12%|█▏        | 1242/10000 [00:02<00:17, 514.35it/s]\n",
      "100%|██████████| 100/100 [00:27<00:00,  3.60it/s]\n",
      " 12%|█▏        | 1242/10000 [00:02<00:17, 489.70it/s]\n",
      " 14%|█▍        | 14/100 [00:04<00:28,  2.97it/s]\n",
      " 12%|█▏        | 1242/10000 [00:02<00:15, 568.87it/s]\n",
      " 49%|████▉     | 49/100 [00:13<00:13,  3.67it/s]\n",
      " 12%|█▏        | 1242/10000 [00:02<00:19, 451.42it/s]\n",
      "  8%|▊         | 8/100 [00:02<00:29,  3.14it/s]\n",
      " 18%|█▊        | 1845/10000 [00:02<00:11, 710.14it/s]\n",
      "100%|██████████| 100/100 [00:12<00:00,  7.71it/s]\n",
      " 18%|█▊        | 1845/10000 [00:03<00:13, 602.29it/s]\n",
      " 80%|████████  | 80/100 [00:10<00:02,  7.33it/s]\n",
      " 18%|█▊        | 1845/10000 [00:04<00:20, 406.57it/s]\n",
      "100%|██████████| 100/100 [00:21<00:00,  4.57it/s]\n",
      " 18%|█▊        | 1845/10000 [00:03<00:13, 594.83it/s]\n",
      " 15%|█▌        | 15/100 [00:02<00:15,  5.58it/s]\n",
      " 18%|█▊        | 1845/10000 [00:03<00:13, 611.51it/s]\n",
      " 46%|████▌     | 46/100 [00:07<00:08,  6.14it/s]\n",
      " 18%|█▊        | 1845/10000 [00:03<00:14, 549.49it/s]\n",
      " 10%|█         | 10/100 [00:01<00:15,  5.66it/s]\n",
      " 18%|█▊        | 1845/10000 [00:03<00:13, 602.64it/s]\n",
      "100%|██████████| 100/100 [00:13<00:00,  7.45it/s]\n",
      " 18%|█▊        | 1845/10000 [00:02<00:11, 684.95it/s]\n",
      "100%|██████████| 100/100 [00:13<00:00,  7.48it/s]\n",
      " 18%|█▊        | 1845/10000 [00:02<00:12, 661.44it/s]\n",
      "100%|██████████| 100/100 [00:14<00:00,  6.74it/s]\n",
      " 18%|█▊        | 1845/10000 [00:03<00:13, 590.15it/s]\n",
      " 14%|█▍        | 14/100 [00:02<00:13,  6.15it/s]\n",
      " 18%|█▊        | 1845/10000 [00:02<00:11, 682.44it/s]\n",
      " 51%|█████     | 51/100 [00:08<00:08,  5.97it/s]\n",
      " 18%|█▊        | 1845/10000 [00:02<00:12, 635.57it/s]\n",
      " 11%|█         | 11/100 [00:02<00:16,  5.28it/s]\n",
      " 18%|█▊        | 1845/10000 [00:02<00:11, 695.68it/s]\n",
      "100%|██████████| 100/100 [00:16<00:00,  6.07it/s]\n",
      " 18%|█▊        | 1845/10000 [00:02<00:12, 632.76it/s]\n",
      "100%|██████████| 100/100 [00:17<00:00,  5.70it/s]\n",
      " 18%|█▊        | 1845/10000 [00:02<00:12, 655.98it/s]\n",
      "100%|██████████| 100/100 [00:23<00:00,  4.35it/s]\n",
      " 18%|█▊        | 1845/10000 [00:04<00:18, 443.22it/s]\n",
      " 14%|█▍        | 14/100 [00:03<00:22,  3.85it/s]\n",
      " 18%|█▊        | 1845/10000 [00:03<00:14, 574.25it/s]\n",
      " 54%|█████▍    | 54/100 [00:13<00:11,  4.06it/s]\n",
      " 18%|█▊        | 1845/10000 [00:03<00:16, 488.72it/s]\n",
      "  9%|▉         | 9/100 [00:02<00:26,  3.44it/s]\n"
     ]
    }
   ],
   "source": [
    "models = []\n",
    "for param in params:\n",
    "    model = DeepSurvivalMachines(k = param['k'],\n",
    "                                 distribution = param['distribution'],\n",
    "                                 layers = param['layers'])\n",
    "    # The fit method is called to train the model\n",
    "    model.fit(x_train, t_train, e_train, iters = 100, learning_rate = param['learning_rate'])\n",
    "    models.append([[model.compute_nll(x_val, t_val, e_val), model]])\n",
    "best_model = min(models)\n",
    "model = best_model[0][1]"
   ]
  },
  {
   "cell_type": "markdown",
   "metadata": {},
   "source": [
    "### Inference"
   ]
  },
  {
   "cell_type": "code",
   "execution_count": 35,
   "metadata": {},
   "outputs": [],
   "source": [
    "out_risk = model.predict_risk(x_test, times)\n",
    "out_survival = model.predict_survival(x_test, times)"
   ]
  },
  {
   "cell_type": "markdown",
   "metadata": {},
   "source": [
    "### Evaluation\n",
    "\n",
    "We evaluate the performance of DSM in its discriminative ability (Time Dependent Concordance Index and Cumulative Dynamic AUC) as well as Brier Score."
   ]
  },
  {
   "cell_type": "code",
   "execution_count": 36,
   "metadata": {},
   "outputs": [],
   "source": [
    "from sksurv.metrics import concordance_index_ipcw, brier_score, cumulative_dynamic_auc"
   ]
  },
  {
   "cell_type": "code",
   "execution_count": 37,
   "metadata": {},
   "outputs": [
    {
     "name": "stdout",
     "output_type": "stream",
     "text": [
      "For 0.25 quantile,\n",
      "TD Concordance Index: 0.7758488928305234\n",
      "Brier Score: 0.10949921706762251\n",
      "ROC AUC  0.7840977530125496 \n",
      "\n",
      "For 0.5 quantile,\n",
      "TD Concordance Index: 0.7084956219062457\n",
      "Brier Score: 0.18207491533147557\n",
      "ROC AUC  0.7298316693618319 \n",
      "\n",
      "For 0.75 quantile,\n",
      "TD Concordance Index: 0.656044903399766\n",
      "Brier Score: 0.22306554875644452\n",
      "ROC AUC  0.7097073968619374 \n",
      "\n"
     ]
    }
   ],
   "source": [
    "cis = []\n",
    "brs = []\n",
    "\n",
    "et_train = np.array([(e_train[i], t_train[i]) for i in range(len(e_train))],\n",
    "                 dtype = [('e', bool), ('t', float)])\n",
    "et_test = np.array([(e_test[i], t_test[i]) for i in range(len(e_test))],\n",
    "                 dtype = [('e', bool), ('t', float)])\n",
    "et_val = np.array([(e_val[i], t_val[i]) for i in range(len(e_val))],\n",
    "                 dtype = [('e', bool), ('t', float)])\n",
    "\n",
    "for i, _ in enumerate(times):\n",
    "    cis.append(concordance_index_ipcw(et_train, et_test, out_risk[:, i], times[i])[0])\n",
    "brs.append(brier_score(et_train, et_test, out_survival, times)[1])\n",
    "roc_auc = []\n",
    "for i, _ in enumerate(times):\n",
    "    roc_auc.append(cumulative_dynamic_auc(et_train, et_test, out_risk[:, i], times[i])[0])\n",
    "for horizon in enumerate(horizons):\n",
    "    print(f\"For {horizon[1]} quantile,\")\n",
    "    print(\"TD Concordance Index:\", cis[horizon[0]])\n",
    "    print(\"Brier Score:\", brs[0][horizon[0]])\n",
    "    print(\"ROC AUC \", roc_auc[horizon[0]][0], \"\\n\")"
   ]
  },
  {
   "cell_type": "code",
   "execution_count": null,
   "metadata": {},
   "outputs": [],
   "source": []
  }
 ],
 "metadata": {
  "kernelspec": {
   "display_name": "Python 3",
   "language": "python",
   "name": "python3"
  },
  "language_info": {
   "codemirror_mode": {
    "name": "ipython",
    "version": 3
   },
   "file_extension": ".py",
   "mimetype": "text/x-python",
   "name": "python",
   "nbconvert_exporter": "python",
   "pygments_lexer": "ipython3",
   "version": "3.8.12"
  }
 },
 "nbformat": 4,
 "nbformat_minor": 4
}
